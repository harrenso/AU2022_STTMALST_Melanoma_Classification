{
 "cells": [
  {
   "cell_type": "markdown",
   "id": "6ad0905e",
   "metadata": {},
   "source": [
    "# Comparing the data of different ISIC challenges\n",
    "ISIC, short for Internationcal Skin Imagening Colaboration, has been holding challenges to classifing skin cancer in images for multiple years. The archiv can be found under: https://challenge.isic-archive.com/\n",
    "\n",
    "It is reasonable to expect that the proportion of images classified as maligniant vary within these datasets. This notebook shall serve as a tool to compare the data of the different challenges. In this context the following aspects will be compared\n",
    "- available meta data\n",
    "- number of total samples\n",
    "- number of samples classified as melamoma = true\n",
    "- images used in multiple ISIC challenges\n",
    "\n",
    "Please note that this notebook does not save any data to the disk and works completely in RAM."
   ]
  },
  {
   "cell_type": "markdown",
   "id": "a4524a19",
   "metadata": {},
   "source": [
    "## 1. Load ISIC Challenge Data\n",
    "In the first step, the data will be downloaded from the ISIC archive. "
   ]
  },
  {
   "cell_type": "code",
   "execution_count": 1,
   "id": "0c15cafd",
   "metadata": {},
   "outputs": [
    {
     "name": "stdout",
     "output_type": "stream",
     "text": [
      "Loading ISIC 2020 Groundtruth\n",
      "Loading ISIC 2019 Groundtruth\n",
      "Loading ISIC 2018 Groundtruth\n",
      "Loading ISIC 2017 Groundtruth\n",
      "Loading ISIC 2016 Groundtruth\n"
     ]
    }
   ],
   "source": [
    "import pandas as pd\n",
    "import requests\n",
    "from zipfile import ZipFile\n",
    "import io\n",
    "\n",
    "print(\"Loading ISIC 2020 Groundtruth\")\n",
    "url_2020 = \"https://isic-challenge-data.s3.amazonaws.com/2020/ISIC_2020_Training_GroundTruth_v2.csv\"\n",
    "df_2020=  pd.read_csv(url_2020)\n",
    "\n",
    "print(\"Loading ISIC 2019 Groundtruth\")\n",
    "url_2019 = \"https://isic-challenge-data.s3.amazonaws.com/2019/ISIC_2019_Training_GroundTruth.csv\"\n",
    "df_2019 =  pd.read_csv(url_2019)\n",
    "\n",
    "print(\"Loading ISIC 2018 Groundtruth\")\n",
    "url_2018 = \"https://isic-challenge-data.s3.amazonaws.com/2018/ISIC2018_Task3_Training_GroundTruth.zip\"\n",
    "file_name = \"ISIC2018_Task3_Training_GroundTruth/ISIC2018_Task3_Training_GroundTruth.csv\"\n",
    "zip_file = ZipFile(io.BytesIO(requests.get(url_2018).content))\n",
    "df_2018 = pd.read_csv(zip_file.open(file_name))\n",
    "\n",
    "print(\"Loading ISIC 2017 Groundtruth\")\n",
    "url_2017 = \"https://isic-challenge-data.s3.amazonaws.com/2017/ISIC-2017_Training_Part3_GroundTruth.csv\"\n",
    "df_2017 =  pd.read_csv(url_2017)\n",
    "\n",
    "print(\"Loading ISIC 2016 Groundtruth\")\n",
    "url_2016 = \"https://isic-challenge-data.s3.amazonaws.com/2016/ISBI2016_ISIC_Part3B_Training_GroundTruth.csv\"\n",
    "df_2016 =  pd.read_csv(url_2016)"
   ]
  },
  {
   "cell_type": "markdown",
   "id": "4896848c",
   "metadata": {},
   "source": [
    "## 2. Dropping duplicates ISIC 2020\n",
    "For the ISIC 2020 data a list of duplicates is available. To compare only individual data those duplicates should be removed."
   ]
  },
  {
   "cell_type": "code",
   "execution_count": 2,
   "id": "d8cd8e04",
   "metadata": {},
   "outputs": [],
   "source": [
    "df_duplicates = pd.read_csv('https://isic-challenge-data.s3.amazonaws.com/2020/ISIC_2020_Training_Duplicates.csv')\n",
    "img_to_drop = df_duplicates.image_name_1.values.tolist()\n",
    "df_2020 = df_2020[df_2020.image_name.isin(img_to_drop) == False]"
   ]
  },
  {
   "cell_type": "markdown",
   "id": "7155382e",
   "metadata": {},
   "source": [
    "## 3. Split off valid & test set of ISIC 2020\n",
    "For the ISIC 2020 challenge, there is no ground truth for test data publically available. For this reason, we have to split the valid and test data of ourselves.\n",
    "This step is necessary even in a comparrison of different datasets, since the valid dataset should ONLY be used for evaluting the models final performance and not be used before that."
   ]
  },
  {
   "cell_type": "code",
   "execution_count": 3,
   "id": "7879257f",
   "metadata": {},
   "outputs": [],
   "source": [
    "from sklearn.model_selection import train_test_split\n",
    "\n",
    "random_state = 42\n",
    "\n",
    "X = df_2020.drop(columns = ['diagnosis', 'benign_malignant', 'target']).copy()\n",
    "y = df_2020[['diagnosis', 'benign_malignant', 'target']]\n",
    "\n",
    "train_size=0.8 # 80% training set\n",
    "X_train, X_remaining, y_train, y_remaining = train_test_split(X,y, \n",
    "                                                              train_size=train_size, \n",
    "                                                              random_state=random_state)\n",
    "df_2020 = pd.concat([X_train, y_train], axis=1, join='inner')"
   ]
  },
  {
   "cell_type": "markdown",
   "id": "dd48c4c4",
   "metadata": {},
   "source": [
    "## 4. Compare available columns\n",
    "Not all ISIC challenges have the same target however they all contain information about whether an image is classified as Melanoma. In the next step, the different attributes available in the different challenges are investigated."
   ]
  },
  {
   "cell_type": "code",
   "execution_count": 4,
   "id": "29acc22e",
   "metadata": {},
   "outputs": [
    {
     "name": "stdout",
     "output_type": "stream",
     "text": [
      "ISIC 2020\n",
      "9 columns available: ['image_name', 'patient_id', 'lesion_id', 'sex', 'age_approx', 'anatom_site_general_challenge', 'diagnosis', 'benign_malignant', 'target']\n",
      "\n",
      "ISIC 2019\n",
      "10 columns available: ['image', 'MEL', 'NV', 'BCC', 'AK', 'BKL', 'DF', 'VASC', 'SCC', 'UNK']\n",
      "\n",
      "ISIC 2018\n",
      "8 columns available: ['image', 'MEL', 'NV', 'BCC', 'AKIEC', 'BKL', 'DF', 'VASC']\n",
      "\n",
      "ISIC 2017\n",
      "3 columns available: ['image_id', 'melanoma', 'seborrheic_keratosis']\n",
      "\n",
      "ISIC 2016\n",
      "2 columns available: ['ISIC_0000000', 'benign']\n",
      "\n"
     ]
    }
   ],
   "source": [
    "def print_avail_columns(year, df):\n",
    "    print(\"ISIC %s\" %year)\n",
    "    col = df.columns.values.tolist()\n",
    "    print(\"%i columns available: %s\\n\" %(len(col), col))\n",
    "\n",
    "print_avail_columns(\"2020\", df_2020)\n",
    "print_avail_columns(\"2019\", df_2019)\n",
    "print_avail_columns(\"2018\", df_2018)\n",
    "print_avail_columns(\"2017\", df_2017)\n",
    "print_avail_columns(\"2016\", df_2016)"
   ]
  },
  {
   "cell_type": "markdown",
   "id": "56c664a2",
   "metadata": {},
   "source": [
    "## 5. Transform data into the same format\n",
    "As seen in step 3, the data from the different columns contains slightly different data / columns. In order to compare them better, they will now be transformed into the same format. \n",
    "\n",
    "After the transformation, all datasets will have two attributes:\n",
    "1. image_name = the name of the image\n",
    "2. target = true (melanoma), false (no melanoma)"
   ]
  },
  {
   "cell_type": "code",
   "execution_count": 5,
   "id": "c85bf156",
   "metadata": {},
   "outputs": [],
   "source": [
    "df_2020 = df_2020[['image_name', 'target']]\n",
    "\n",
    "df_2019['target'] = df_2019.apply(lambda row: row.MEL == True, axis = 1)\n",
    "df_2019 = df_2019[['image', 'target']]\n",
    "df_2019 = df_2019.rename(columns = {'image':'image_name'})\n",
    "\n",
    "df_2018['target'] = df_2018.apply(lambda row: row.MEL == True, axis = 1)\n",
    "df_2018 = df_2018[['image', 'target']]\n",
    "df_2018 = df_2018.rename(columns = {'image':'image_name'})\n",
    "\n",
    "df_2017['target'] = df_2017.apply(lambda row: row.melanoma == True, axis = 1)\n",
    "df_2017 = df_2017[['image_id', 'target']]\n",
    "df_2017 = df_2017.rename(columns = {'image_id':'image_name'})\n",
    "\n",
    "df_2016 = df_2016.rename(columns = {'ISIC_0000000':'image_name', 'benign':'target'})\n",
    "df_2016['target'] = df_2016.apply(lambda row: row.target == 'malignant', axis = 1)"
   ]
  },
  {
   "cell_type": "markdown",
   "id": "509e2728",
   "metadata": {},
   "source": [
    "## 6. Compare percentage of melanoma classifications\n",
    "In the next step, the percentage of images classified as melanoma are calculated and compared."
   ]
  },
  {
   "cell_type": "code",
   "execution_count": 6,
   "id": "f95fb8bf",
   "metadata": {},
   "outputs": [
    {
     "name": "stdout",
     "output_type": "stream",
     "text": [
      "2020 ISIC \n",
      "26160 samples \t 470 melanoma samples \t 1.80 % melanoma percentage \n",
      "\n",
      "True / False values\n",
      "0    25690\n",
      "1      470\n",
      "Name: target, dtype: int64\n",
      "\n",
      "\n",
      "\n",
      "2019 ISIC \n",
      "25331 samples \t 4522 melanoma samples \t 17.85 % melanoma percentage \n",
      "\n",
      "True / False values\n",
      "False    20809\n",
      "True      4522\n",
      "Name: target, dtype: int64\n",
      "\n",
      "\n",
      "\n",
      "2018 ISIC \n",
      "10015 samples \t 1113 melanoma samples \t 11.11 % melanoma percentage \n",
      "\n",
      "True / False values\n",
      "False    8902\n",
      "True     1113\n",
      "Name: target, dtype: int64\n",
      "\n",
      "\n",
      "\n",
      "2017 ISIC \n",
      "2000 samples \t 374 melanoma samples \t 18.70 % melanoma percentage \n",
      "\n",
      "True / False values\n",
      "False    1626\n",
      "True      374\n",
      "Name: target, dtype: int64\n",
      "\n",
      "\n",
      "\n",
      "2016 ISIC \n",
      "899 samples \t 173 melanoma samples \t 19.24 % melanoma percentage \n",
      "\n",
      "True / False values\n",
      "False    726\n",
      "True     173\n",
      "Name: target, dtype: int64\n",
      "\n",
      "\n",
      "\n"
     ]
    }
   ],
   "source": [
    "def print_melanoma_count(year, df):\n",
    "    count = len(df.index)\n",
    "    count_melanoma = len(df[df['target']==True])\n",
    "    percentage_melanoma = count_melanoma/count\n",
    "    print(\"%s ISIC \\n%i samples \\t %i melanoma samples \\t %0.2f %% melanoma percentage \\n\" \n",
    "          %(year, count, count_melanoma, percentage_melanoma*100))\n",
    "    print(\"True / False values\")\n",
    "    print(df['target'].value_counts())\n",
    "    print(\"\\n\\n\")\n",
    "\n",
    "print_melanoma_count(\"2020\", df_2020)\n",
    "print_melanoma_count(\"2019\", df_2019)\n",
    "print_melanoma_count(\"2018\", df_2018)\n",
    "print_melanoma_count(\"2017\", df_2017)\n",
    "print_melanoma_count(\"2016\", df_2016)"
   ]
  },
  {
   "cell_type": "markdown",
   "id": "e8c8695e",
   "metadata": {},
   "source": [
    "## 7. Check for duplicates\n",
    "It is safe to assume that some images have been used in multiple ISIC challenges. In the following step, all duplicate image names will be collected. It may of course also be that even more duplicates are contained that are not named the same. These will not be filtered out within this step."
   ]
  },
  {
   "cell_type": "code",
   "execution_count": 7,
   "id": "4b85f16f",
   "metadata": {},
   "outputs": [
    {
     "name": "stdout",
     "output_type": "stream",
     "text": [
      "Comparing 2020 and 2019 dataset\n",
      "0 images with the same name found \n",
      "\n",
      "Comparing 2020 and 2018 dataset\n",
      "0 images with the same name found \n",
      "\n",
      "Comparing 2020 and 2017 dataset\n",
      "0 images with the same name found \n",
      "\n",
      "Comparing 2020 and 2016 dataset\n",
      "0 images with the same name found \n",
      "\n",
      "Comparing 2019 and 2018 dataset\n",
      "10015 images with the same name found \n",
      "\n",
      "Comparing 2019 and 2017 dataset\n",
      "717 images with the same name found \n",
      "\n",
      "Comparing 2019 and 2016 dataset\n",
      "565 images with the same name found \n",
      "\n",
      "Comparing 2018 and 2017 dataset\n",
      "0 images with the same name found \n",
      "\n",
      "Comparing 2018 and 2016 dataset\n",
      "0 images with the same name found \n",
      "\n",
      "Comparing 2017 and 2016 dataset\n",
      "742 images with the same name found \n",
      "\n",
      "In total: \n",
      "There are 64405 images in total of which...\n",
      "11061 image names appear more than once (17.17%)\n",
      "41794 image names only appear once (64.89%)\n",
      "52855 image names are individual (82.07%)\n",
      "11550 images should be discarded to achieve a duplicate-free dataset (17.93%)\n"
     ]
    }
   ],
   "source": [
    "import numpy as np\n",
    "\n",
    "def check_has_same_image(df1, df2):\n",
    "    merged = df1.merge(df2)\n",
    "    print(\"%i images with the same name found \\n\" %len(merged.index))\n",
    "    return merged\n",
    "\n",
    "dfs = [df_2020, df_2019, df_2018, df_2017, df_2016]\n",
    "df_names = [\"2020\", \"2019\", \"2018\", \"2017\", \"2016\"]\n",
    "df_all_names = pd.DataFrame(columns=[\"image_name\", \"target_x\", \"target_y\"])\n",
    "\n",
    "for i in range(len(dfs)):\n",
    "    for j in range(len(dfs)-i-1):\n",
    "        print(\"Comparing %s and %s dataset\" %(df_names[i], df_names[j+1+i]))\n",
    "        merged = check_has_same_image(dfs[i], dfs[j+1+i])\n",
    "        df_all_names= pd.concat([df_all_names, merged]).drop_duplicates()\n",
    "\n",
    "number_total_images = len(pd.concat(dfs)) # total images in dataset including duplicates\n",
    "number_more_than_once = len(df_all_names.index) # images that appear more than once time in the dataset\n",
    "number_individual = len(pd.concat(dfs).drop_duplicates()) # total images in dataset excluding duplicates\n",
    "number_only_once = number_individual - number_more_than_once # images that only appear once\n",
    "number_to_remove = number_total_images - number_individual # number of images that should be discarded so that there are no duplicates\n",
    "\n",
    "print(\"In total: \")\n",
    "print(\"There are %i images in total of which...\" %number_total_images)\n",
    "print(\"%i image names appear more than once (%0.2f%%)\" \n",
    "      %(number_more_than_once, number_more_than_once/number_total_images*100))\n",
    "print(\"%i image names only appear once (%0.2f%%)\" \n",
    "      %(number_only_once, number_only_once/number_total_images*100))\n",
    "print(\"%i image names are individual (%0.2f%%)\" \n",
    "      %(number_individual, number_individual/number_total_images*100))\n",
    "print(\"%i images should be discarded to achieve a duplicate-free dataset (%0.2f%%)\" \n",
    "      %(number_to_remove , number_to_remove/number_total_images*100))"
   ]
  }
 ],
 "metadata": {
  "kernelspec": {
   "display_name": "Python 3 (ipykernel)",
   "language": "python",
   "name": "python3"
  },
  "language_info": {
   "codemirror_mode": {
    "name": "ipython",
    "version": 3
   },
   "file_extension": ".py",
   "mimetype": "text/x-python",
   "name": "python",
   "nbconvert_exporter": "python",
   "pygments_lexer": "ipython3",
   "version": "3.8.13"
  }
 },
 "nbformat": 4,
 "nbformat_minor": 5
}

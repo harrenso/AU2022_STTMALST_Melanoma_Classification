{
 "cells": [
  {
   "cell_type": "markdown",
   "id": "715fa4fc",
   "metadata": {},
   "source": [
    "# Simple neural network \n",
    "In this notebook, a simple neural network based on the melanoma dataset will be build in order to assess initial performance.\n",
    "The notebook works with data previously saved to the disk (see script: data preparation)."
   ]
  },
  {
   "cell_type": "markdown",
   "id": "cb81a3a1",
   "metadata": {},
   "source": [
    "## 1. Imports\n",
    "In the first step, all necessary libaries will be imported. "
   ]
  },
  {
   "cell_type": "code",
   "execution_count": 1,
   "id": "1befb0a9",
   "metadata": {},
   "outputs": [],
   "source": [
    "import pandas as pd # for data manipulation\n",
    "import numpy as np # for data manipulation\n",
    "\n",
    "import sklearn # for model evaluation\n",
    "from sklearn.neural_network import MLPClassifier\n",
    "from sklearn.metrics import classification_report\n",
    "from sklearn.model_selection import train_test_split\n",
    "\n",
    "import cv2 # for ingesting images\n",
    "import matplotlib \n",
    "import matplotlib.pyplot as plt # for showing images\n",
    "\n",
    "import sys\n",
    "import os"
   ]
  },
  {
   "cell_type": "markdown",
   "id": "14e55bab",
   "metadata": {},
   "source": [
    "## 2. Load and Transform Train Data\n",
    "In the second step the data will be loaded and transformed. \n",
    "This includes the following steps:\n",
    "- Resizing images\n",
    "- Flattening images\n",
    "- Standardizing images\n",
    "- Combining meta data and images"
   ]
  },
  {
   "cell_type": "code",
   "execution_count": 2,
   "id": "b1c18624",
   "metadata": {},
   "outputs": [
    {
     "name": "stdout",
     "output_type": "stream",
     "text": [
      "Shape of df_ground_truth (26160, 11)\n",
      "Shape of df_img (120, 49153)\n",
      "Shape of df (120, 49164)\n",
      "Shape of X (120, 49161)\n",
      "Shape of Y (120,)\n"
     ]
    }
   ],
   "source": [
    "data_partition = \"train\"\n",
    "img_location = \"data/\" + data_partition\n",
    "ground_truth_location = \"data/ISIC_2020_Training_GroundTruth_v2_\" + data_partition + \".csv\"\n",
    "\n",
    "# Get list of all file names\n",
    "image_paths = []\n",
    "for image in list(os.listdir(img_location)):\n",
    "    image_paths = image_paths+[img_location+\"/\"+image]\n",
    "\n",
    "# Load images into array\n",
    "img_data=[]\n",
    "for img in image_paths:\n",
    "    image = cv2.imread(img)\n",
    "    image = cv2.resize(image, (128, 128)) # resize to be a fixed 128x128 pixels, ignoring original aspect ratio\n",
    "    img_data.append(image.flatten()) # flatten image and save to array\n",
    "\n",
    "# Convert image data to numpy array and standardize values (divide by 255 since RGB values ranges from 0 to 255)\n",
    "img_data = np.array(img_data, dtype=\"float\") / 255.0\n",
    "\n",
    "# Load img data into data frame\n",
    "df_img_flattened = pd.DataFrame(img_data, dtype=\"float\", columns = ['img_flattened_' + str(i + 1) \n",
    "                                                             for i in range(img_data.shape[1])])\n",
    "df_img_names = pd.DataFrame(image_paths, dtype=\"string\", columns = [\"image_name\"])\n",
    "df_img = pd.concat([df_img_flattened, df_img_names], axis=1)\n",
    "\n",
    "# Load ground truth \n",
    "df_ground_truth = pd.read_csv(ground_truth_location)\n",
    "\n",
    "# Combine img data and ground truth\n",
    "df_ground_truth.set_index(\"image_name\")\n",
    "print(\"Shape of df_ground_truth\", df_ground_truth.shape)\n",
    "df_img.set_index(\"image_name\")\n",
    "print(\"Shape of df_img\", df_img.shape)\n",
    "df = pd.merge(df_img, df_ground_truth, how='inner', left_index=True, right_index=True)\n",
    "print(\"Shape of df\", df.shape)\n",
    "\n",
    "# Split off target of ground truth\n",
    "X = df.drop(columns = ['diagnosis', 'benign_malignant', 'target']).copy()\n",
    "y = df['target']\n",
    "\n",
    "print(\"Shape of X\", X.shape)\n",
    "print(\"Shape of Y\", y.shape)\n",
    "\n",
    "# Exclude non-numeric data types\n",
    "X = X.select_dtypes(exclude=['object', 'string'])"
   ]
  },
  {
   "cell_type": "markdown",
   "id": "f98c5bbe",
   "metadata": {},
   "source": [
    "## 3. Load Test Data\n",
    "In the next step the test data shall be loaded. Since I dont have that data on my pc right now, I just split off a part of my train data."
   ]
  },
  {
   "cell_type": "code",
   "execution_count": 3,
   "id": "db4b4dd1",
   "metadata": {},
   "outputs": [],
   "source": [
    "X_train, X_test, y_train, y_test = train_test_split(X, y, random_state=42)"
   ]
  },
  {
   "cell_type": "markdown",
   "id": "ca1b5930",
   "metadata": {},
   "source": [
    "## 4. MLP Classifier\n",
    "Finally, a simple model will be trained and evaluated.\n",
    "We can see that the model reaches a high accuracy and recall for the images not classified as cancer, however does not identify any image labeled as cancer correctly.This is due to the very low percentage of training samples that are labeled as melanoma=true"
   ]
  },
  {
   "cell_type": "code",
   "execution_count": 4,
   "id": "2ad22cb3",
   "metadata": {},
   "outputs": [
    {
     "name": "stdout",
     "output_type": "stream",
     "text": [
      "\n",
      "Classification_report=\n",
      "              precision    recall  f1-score   support\n",
      "\n",
      "           0     0.9667    1.0000    0.9831        29\n",
      "           1     0.0000    0.0000    0.0000         1\n",
      "\n",
      "    accuracy                         0.9667        30\n",
      "   macro avg     0.4833    0.5000    0.4915        30\n",
      "weighted avg     0.9344    0.9667    0.9503        30\n",
      "\n"
     ]
    },
    {
     "name": "stderr",
     "output_type": "stream",
     "text": [
      "C:\\Users\\apfel\\anaconda3\\envs\\tf2\\lib\\site-packages\\sklearn\\metrics\\_classification.py:1318: UndefinedMetricWarning: Precision and F-score are ill-defined and being set to 0.0 in labels with no predicted samples. Use `zero_division` parameter to control this behavior.\n",
      "  _warn_prf(average, modifier, msg_start, len(result))\n",
      "C:\\Users\\apfel\\anaconda3\\envs\\tf2\\lib\\site-packages\\sklearn\\metrics\\_classification.py:1318: UndefinedMetricWarning: Precision and F-score are ill-defined and being set to 0.0 in labels with no predicted samples. Use `zero_division` parameter to control this behavior.\n",
      "  _warn_prf(average, modifier, msg_start, len(result))\n",
      "C:\\Users\\apfel\\anaconda3\\envs\\tf2\\lib\\site-packages\\sklearn\\metrics\\_classification.py:1318: UndefinedMetricWarning: Precision and F-score are ill-defined and being set to 0.0 in labels with no predicted samples. Use `zero_division` parameter to control this behavior.\n",
      "  _warn_prf(average, modifier, msg_start, len(result))\n"
     ]
    }
   ],
   "source": [
    "mlp = MLPClassifier(solver='lbfgs', alpha=1e-5,\n",
    "                    hidden_layer_sizes=(5, 2), random_state=42)\n",
    "mlp.fit(X_train, y_train)\n",
    "\n",
    "y_pred_mlp = mlp.predict(X_test)\n",
    "\n",
    "report = classification_report(y_test, y_pred_mlp, digits=4)\n",
    "print(f'\\nClassification_report=\\n{report}')"
   ]
  }
 ],
 "metadata": {
  "kernelspec": {
   "display_name": "Python 3 (ipykernel)",
   "language": "python",
   "name": "python3"
  },
  "language_info": {
   "codemirror_mode": {
    "name": "ipython",
    "version": 3
   },
   "file_extension": ".py",
   "mimetype": "text/x-python",
   "name": "python",
   "nbconvert_exporter": "python",
   "pygments_lexer": "ipython3",
   "version": "3.8.13"
  }
 },
 "nbformat": 4,
 "nbformat_minor": 5
}

{
 "cells": [
  {
   "cell_type": "markdown",
   "id": "715fa4fc",
   "metadata": {},
   "source": [
    "# Melanoma Classification Model - Decision Tree\n"
   ]
  },
  {
   "cell_type": "markdown",
   "id": "cb81a3a1",
   "metadata": {},
   "source": [
    "## Set up"
   ]
  },
  {
   "cell_type": "markdown",
   "id": "b5b96c98",
   "metadata": {},
   "source": [
    "#### Set up for importing utilities"
   ]
  },
  {
   "cell_type": "code",
   "execution_count": 1,
   "id": "ec640835",
   "metadata": {},
   "outputs": [],
   "source": [
    "import os\n",
    "import sys\n",
    "module_path = os.path.abspath(os.path.join('..'))\n",
    "if module_path not in sys.path:\n",
    "    sys.path.append(module_path)"
   ]
  },
  {
   "cell_type": "markdown",
   "id": "c5033002",
   "metadata": {},
   "source": [
    " #### Random State\n",
    " Please use the following random state for all methods that may take a random state in order to achieve reproducable results"
   ]
  },
  {
   "cell_type": "code",
   "execution_count": 2,
   "id": "39f3a163",
   "metadata": {},
   "outputs": [],
   "source": [
    "from utilities import random_state\n",
    "random_state = random_state() "
   ]
  },
  {
   "cell_type": "markdown",
   "id": "bafa2e65",
   "metadata": {},
   "source": [
    "#### Export Config\n",
    "You may configure \n",
    "- whether the results shall be exported (export_results)\n",
    "- where the results will be exported to\n",
    "\n",
    "The default folder \"export\" will not be tracked by git in order to avoid flooding the repository with w.i.p. results. If you want to save a result on github, please rename it including the type of model and the date and move the picture to another folder :)"
   ]
  },
  {
   "cell_type": "code",
   "execution_count": 3,
   "id": "4738141e",
   "metadata": {},
   "outputs": [],
   "source": [
    "export_results = True\n",
    "export_folder = 'export'\n",
    "\n",
    "date_format = \"%d%m%Y%H%M%S\" # timestamp format in exported files\n",
    "if export_results:\n",
    "    import datetime\n",
    "    import os\n",
    "    if not os.path.exists(export_folder): \n",
    "      os.makedirs(export_folder)\n",
    "      print(\"Created new directory %s\" %export_folder)"
   ]
  },
  {
   "cell_type": "markdown",
   "id": "9dcf53db",
   "metadata": {},
   "source": [
    "## Get data"
   ]
  },
  {
   "cell_type": "markdown",
   "id": "3bac5f94",
   "metadata": {},
   "source": [
    "#### Get image paths\n",
    "You may adjust the number of images loaded in order to run models more quickly on your private computer. Note hoewever that the less images you use the worse the predictions will likely be. \n",
    "\n",
    "For developing models on the cluster the max_images parameter should be removed. Instead call the method get_all_img_paths(img_folder)."
   ]
  },
  {
   "cell_type": "code",
   "execution_count": 4,
   "id": "ff9929fe",
   "metadata": {},
   "outputs": [],
   "source": [
    "from utilities import get_img_paths\n",
    "\n",
    "img_folder_train = \"data/train\" # change this to the folder including your images!\n",
    "img_folder_test = \"data/test\"\n",
    "max_images_train = 80\n",
    "max_images_test = 10\n",
    "\n",
    "img_paths_train = get_img_paths(img_folder_train, max_images_train) \n",
    "img_paths_test = get_img_paths(img_folder_test, max_images_test)"
   ]
  },
  {
   "cell_type": "markdown",
   "id": "350c8b8d",
   "metadata": {},
   "source": [
    "#### Load data\n",
    "Loads the images specified in img_paths into a data frame. This includes resizing the images and flattening them into an array and may take a while."
   ]
  },
  {
   "cell_type": "code",
   "execution_count": null,
   "id": "52b49b67",
   "metadata": {},
   "outputs": [],
   "source": [
    "from utilities import load_data\n",
    "\n",
    "groundtruth_file_train = \"data/ISIC_2020_2019_train.csv\" # change this to the path where you have your data!\n",
    "groundtruth_file_test = \"data/ISIC_2020_2019_test.csv\"\n",
    "\n",
    "df_train = load_data(img_paths_train, groundtruth_file_train)\n",
    "df_test = load_data(img_paths_test, groundtruth_file_test)"
   ]
  },
  {
   "cell_type": "markdown",
   "id": "0cc625b1",
   "metadata": {},
   "source": [
    "#### Split into target and predictors"
   ]
  },
  {
   "cell_type": "code",
   "execution_count": null,
   "id": "bd75d960",
   "metadata": {},
   "outputs": [],
   "source": [
    "from utilities import split_predictors_target\n",
    "\n",
    "X_train, y_train = split_predictors_target(df_train) \n",
    "X_test, y_test = split_predictors_target(df_test) "
   ]
  },
  {
   "cell_type": "markdown",
   "id": "ca1b5930",
   "metadata": {},
   "source": [
    "## Train model\n",
    "Put your model here! "
   ]
  },
  {
   "cell_type": "code",
   "execution_count": null,
   "id": "2ad22cb3",
   "metadata": {},
   "outputs": [],
   "source": [
    "import sklearn \n",
    "from sklearn.tree import DecisionTreeClassifier\n",
    "\n",
    "dtc=DecisionTreeClassifier()\n",
    "dtc.fit(X_train, y_train)\n"
   ]
  },
  {
   "cell_type": "markdown",
   "id": "f7a8918a",
   "metadata": {},
   "source": [
    "## Test model"
   ]
  },
  {
   "cell_type": "markdown",
   "id": "4f9783a2",
   "metadata": {},
   "source": [
    "#### Predict test set\n",
    "You may need to modify this depending on your model. Important thing is that after this step, the results of your classification should be stored in y_pred so that the following steps will work!"
   ]
  },
  {
   "cell_type": "code",
   "execution_count": null,
   "id": "0599d3e7",
   "metadata": {},
   "outputs": [],
   "source": [
    "y_pred = dtc.predict(X_test)"
   ]
  },
  {
   "cell_type": "markdown",
   "id": "1539dd60",
   "metadata": {},
   "source": [
    "#### Print report"
   ]
  },
  {
   "cell_type": "code",
   "execution_count": null,
   "id": "ef9892eb",
   "metadata": {},
   "outputs": [],
   "source": [
    "from sklearn.metrics import classification_report\n",
    "report = classification_report(y_test, y_pred, digits=4)\n",
    "print(f'\\nClassification_report=\\n{report}')\n",
    "\n",
    "if export_results:\n",
    "    file = open(export_folder + \"/classification_report_\"+datetime.datetime.now().strftime(date_format)+\".txt\", 'w')\n",
    "    file.write(report)\n",
    "    file.close()"
   ]
  },
  {
   "cell_type": "markdown",
   "id": "188d0f53",
   "metadata": {},
   "source": [
    "#### Confusion Matrix"
   ]
  },
  {
   "cell_type": "code",
   "execution_count": null,
   "id": "9433d530",
   "metadata": {},
   "outputs": [],
   "source": [
    "import seaborn as sns\n",
    "from sklearn.metrics import confusion_matrix\n",
    "\n",
    "class_names = [\"no melanoma\", \"melanoma\"]\n",
    "\n",
    "cf = confusion_matrix(y_test, y_pred)\n",
    "plot = sns.heatmap(cf, annot= True, fmt=\".0f\",\n",
    "           xticklabels = class_names,\n",
    "           yticklabels = class_names)\n",
    "plot.set(xlabel='Prediction', ylabel='Actual')\n",
    "\n",
    "if export_results:\n",
    "    plot.get_figure().savefig(export_folder + '/confusion_matrix_' + datetime.datetime.now().strftime(date_format) + \".png\")"
   ]
  },
  {
   "cell_type": "markdown",
   "id": "930c56be",
   "metadata": {},
   "source": [
    "#### Display images and predictions\n",
    "Note: you may pass a fourth parameter indicating the maximum images displayed. per default this parameter is set as 50"
   ]
  },
  {
   "cell_type": "code",
   "execution_count": null,
   "id": "b4d5169d",
   "metadata": {},
   "outputs": [],
   "source": [
    "from utilities import display_results\n",
    "\n",
    "plt_all = display_results(X_test, y_pred, y_test, 15)\n",
    "\n",
    "if export_results:\n",
    "    plt_all.savefig(export_folder + \"/classification_results_\"+datetime.datetime.now().strftime(date_format)+\".png\")\n",
    "\n",
    "plt_all.show()"
   ]
  },
  {
   "cell_type": "markdown",
   "id": "2d2024f8",
   "metadata": {},
   "source": [
    "#### Display wrongly classified images\n",
    "Note: you may pass a fourth parameter indicating the maximum images displayed. per default this parameter is set as 50"
   ]
  },
  {
   "cell_type": "code",
   "execution_count": null,
   "id": "abd0730d",
   "metadata": {},
   "outputs": [],
   "source": [
    "from utilities import display_interesting_results\n",
    "\n",
    "plt_wrong = display_interesting_results(X_test, y_pred, y_test)\n",
    "\n",
    "if export_results:\n",
    "    plt_wrong.savefig(export_folder + \"/incorrect_classification_results_\"+datetime.datetime.now().strftime(date_format)+\".png\")\n",
    "    \n",
    "plt_wrong.show()"
   ]
  },
  {
   "cell_type": "code",
   "execution_count": null,
   "id": "40d11a9c",
   "metadata": {},
   "outputs": [],
   "source": []
  }
 ],
 "metadata": {
  "kernelspec": {
   "display_name": "Python 3 (ipykernel)",
   "language": "python",
   "name": "python3"
  },
  "language_info": {
   "codemirror_mode": {
    "name": "ipython",
    "version": 3
   },
   "file_extension": ".py",
   "mimetype": "text/x-python",
   "name": "python",
   "nbconvert_exporter": "python",
   "pygments_lexer": "ipython3",
   "version": "3.9.12"
  }
 },
 "nbformat": 4,
 "nbformat_minor": 5
}

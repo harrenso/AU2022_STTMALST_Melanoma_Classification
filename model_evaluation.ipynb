{
 "cells": [
  {
   "cell_type": "markdown",
   "id": "3c5f81e4",
   "metadata": {},
   "source": [
    "# Model evaluation\n",
    "This is the final script, which evaluates the final model using the validation set, which has not been used up until now."
   ]
  },
  {
   "cell_type": "markdown",
   "id": "4d8167af",
   "metadata": {},
   "source": [
    "## 0. Setup"
   ]
  },
  {
   "cell_type": "code",
   "execution_count": null,
   "id": "36dc072e",
   "metadata": {},
   "outputs": [],
   "source": [
    "import os\n",
    "import sys\n",
    "module_path = os.path.abspath(os.path.join('..'))\n",
    "if module_path not in sys.path:\n",
    "    sys.path.append(module_path)"
   ]
  },
  {
   "cell_type": "code",
   "execution_count": null,
   "id": "b30abf34",
   "metadata": {},
   "outputs": [],
   "source": [
    "export_folder = f'export'\n",
    "date_format = \"%d%m%Y%H%M%S\" # timestamp format in exported files"
   ]
  },
  {
   "cell_type": "code",
   "execution_count": null,
   "id": "8ed14f95",
   "metadata": {},
   "outputs": [],
   "source": [
    "model_path = \"git-ignored-models/model_17112022221102.h5\" "
   ]
  },
  {
   "cell_type": "code",
   "execution_count": null,
   "id": "32cc6480",
   "metadata": {},
   "outputs": [],
   "source": [
    "base_path = \"data\" \n",
    "img_folder_valid = base_path + \"/valid\"\n",
    "groundtruth_file_valid = base_path + \"/ISIC_2020_2019_valid.csv\"\n",
    "num_cores = 8"
   ]
  },
  {
   "cell_type": "markdown",
   "id": "8b224f1b",
   "metadata": {},
   "source": [
    "## 1. Load the model"
   ]
  },
  {
   "cell_type": "code",
   "execution_count": null,
   "id": "9652fd1d",
   "metadata": {},
   "outputs": [],
   "source": [
    "from tensorflow.keras.models import load_model\n",
    "from efficientnet.tfkeras import EfficientNetB0\n",
    "\n",
    "model = load_model(model_path)"
   ]
  },
  {
   "cell_type": "code",
   "execution_count": null,
   "id": "0adbcb16",
   "metadata": {},
   "outputs": [],
   "source": [
    "from math import sqrt\n",
    "\n",
    "input_shape = model.get_config()[\"layers\"][0][\"config\"][\"batch_input_shape\"]\n",
    "expect_flattened_input = len(input_shape) == 2\n",
    "img_pixel = int(sqrt(input_shape[1]/3) if expect_flattened_input else input_shape[1])\n",
    "\n",
    "are_flat = \"are\" if expect_flattened_input else \"are not\"\n",
    "print(f\"the model expects images with size {img_pixel}*{img_pixel} which {are_flat} flattened out\")"
   ]
  },
  {
   "cell_type": "markdown",
   "id": "8d4e4c2b",
   "metadata": {},
   "source": [
    "## 2. Load the data"
   ]
  },
  {
   "cell_type": "code",
   "execution_count": null,
   "id": "eb2ea74a",
   "metadata": {},
   "outputs": [],
   "source": [
    "from utilities import get_all_img_paths\n",
    "\n",
    "img_paths_valid = get_all_img_paths(img_folder_valid) "
   ]
  },
  {
   "cell_type": "code",
   "execution_count": null,
   "id": "acff738d",
   "metadata": {},
   "outputs": [],
   "source": [
    "from utilities import get_df\n",
    "\n",
    "result = [None]\n",
    "num_images_per_thread = int(len(img_paths_valid) / num_cores)\n",
    "print(\"Num images per thread %d\"%num_images_per_thread)\n",
    "\n",
    "get_df(result, 0, img_paths_valid, groundtruth_file_valid, \"valid\", num_images_per_thread, img_pixel)\n",
    "\n",
    "df_valid = result[0]"
   ]
  },
  {
   "cell_type": "code",
   "execution_count": null,
   "id": "8c6bcf1b",
   "metadata": {},
   "outputs": [],
   "source": [
    "from utilities import split_predictors_target\n",
    "\n",
    "X_valid, y_valid = split_predictors_target(df_valid) "
   ]
  },
  {
   "cell_type": "code",
   "execution_count": null,
   "id": "4afbea7f",
   "metadata": {},
   "outputs": [],
   "source": [
    "if not expect_flattened_input:\n",
    "    from utilities import unflatten_images_df\n",
    "    X_valid = unflatten_images_df(X_valid, img_pixel=img_pixel)"
   ]
  },
  {
   "cell_type": "markdown",
   "id": "a0fe44d0",
   "metadata": {},
   "source": [
    "## 3. Predict the validation set"
   ]
  },
  {
   "cell_type": "code",
   "execution_count": null,
   "id": "50585a52",
   "metadata": {},
   "outputs": [],
   "source": [
    "y_pred_continuous = model.predict(X_valid)\n",
    "y_pred_discrete = (model.predict(X_valid) > 0.5).astype(\"int32\")\n",
    "y_pred = y_pred_discrete"
   ]
  },
  {
   "cell_type": "markdown",
   "id": "c23175c9",
   "metadata": {},
   "source": [
    "## 4. Evaluate the results"
   ]
  },
  {
   "cell_type": "code",
   "execution_count": null,
   "id": "c31f6426",
   "metadata": {},
   "outputs": [],
   "source": [
    "_, valid_acc, valid_recall = model.evaluate(X_valid, y_valid)\n",
    "print('Accuracy\\tValid: %.3f' % (valid_acc))\n",
    "print('Recall\\tValid: %.3f' % (valid_recall))"
   ]
  },
  {
   "cell_type": "code",
   "execution_count": null,
   "id": "0d228d19",
   "metadata": {},
   "outputs": [],
   "source": [
    "from sklearn.metrics import classification_report\n",
    "report = classification_report(y_val, y_pred, digits=4)\n",
    "print(f'\\nClassification_report=\\n{report}')\n",
    "\n",
    "file = open(export_folder + \"/classification_report_\"+datetime.datetime.now().strftime(date_format)+\".txt\", 'w')\n",
    "file.write(report)\n",
    "file.close()"
   ]
  },
  {
   "cell_type": "code",
   "execution_count": null,
   "id": "817e3b71",
   "metadata": {},
   "outputs": [],
   "source": [
    "from matplotlib import pyplot\n",
    "import seaborn as sns\n",
    "from sklearn.metrics import confusion_matrix\n",
    "\n",
    "class_names = [\"no melanoma\", \"melanoma\"]\n",
    "\n",
    "cf = confusion_matrix(y_valid, y_pred)\n",
    "plot = sns.heatmap(cf, annot= True, fmt=\".0f\",\n",
    "           xticklabels = class_names,\n",
    "           yticklabels = class_names)\n",
    "plot.set(xlabel='Prediction', ylabel='Actual')\n",
    "\n",
    "plot.get_figure().savefig(export_folder + '/confusion_matrix_' + datetime.datetime.now().strftime(date_format) + \".png\")"
   ]
  },
  {
   "cell_type": "code",
   "execution_count": null,
   "id": "bb97d439",
   "metadata": {},
   "outputs": [],
   "source": [
    "from utilities import display_interesting_results\n",
    "\n",
    "plt_wrong = display_interesting_results(X_valid, y_pred, y_valid, img_pixel=img_pixel, flat=expect_flattened_input)\n",
    "plt_wrong.savefig(export_folder + \"/incorrect_classification_results_\"+datetime.datetime.now().strftime(date_format)+\".png\")\n",
    "plt_wrong.show()"
   ]
  }
 ],
 "metadata": {
  "kernelspec": {
   "display_name": "Python 3 (ipykernel)",
   "language": "python",
   "name": "python3"
  },
  "language_info": {
   "codemirror_mode": {
    "name": "ipython",
    "version": 3
   },
   "file_extension": ".py",
   "mimetype": "text/x-python",
   "name": "python",
   "nbconvert_exporter": "python",
   "pygments_lexer": "ipython3",
   "version": "3.9.12"
  }
 },
 "nbformat": 4,
 "nbformat_minor": 5
}

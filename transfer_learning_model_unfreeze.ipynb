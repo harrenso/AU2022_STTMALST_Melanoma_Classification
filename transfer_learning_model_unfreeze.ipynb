{
 "cells": [
  {
   "cell_type": "markdown",
   "id": "1164195f",
   "metadata": {},
   "source": [
    "# Transfer learning for Melanoma Classification using EfficientNetB0\n"
   ]
  },
  {
   "cell_type": "markdown",
   "id": "0b57502d",
   "metadata": {},
   "source": [
    "## 1. Set up"
   ]
  },
  {
   "cell_type": "markdown",
   "id": "c3bd5b4a",
   "metadata": {},
   "source": [
    "#### Set up for importing utilities"
   ]
  },
  {
   "cell_type": "code",
   "execution_count": 1,
   "id": "6a7085ac",
   "metadata": {},
   "outputs": [],
   "source": [
    "import os\n",
    "import sys\n",
    "module_path = os.path.abspath(os.path.join('..'))\n",
    "if module_path not in sys.path:\n",
    "    sys.path.append(module_path)"
   ]
  },
  {
   "cell_type": "markdown",
   "id": "9487cf04",
   "metadata": {},
   "source": [
    "#### Install efficientnet"
   ]
  },
  {
   "cell_type": "code",
   "execution_count": 2,
   "id": "3906f142",
   "metadata": {},
   "outputs": [],
   "source": [
    "import efficientnet.tfkeras as efn"
   ]
  },
  {
   "cell_type": "markdown",
   "id": "204314b3",
   "metadata": {},
   "source": [
    " #### Random State"
   ]
  },
  {
   "cell_type": "code",
   "execution_count": 3,
   "id": "f0548957",
   "metadata": {},
   "outputs": [],
   "source": [
    "from utilities import random_state\n",
    "random_state = random_state() "
   ]
  },
  {
   "cell_type": "markdown",
   "id": "2469977e",
   "metadata": {},
   "source": [
    "#### Export Config"
   ]
  },
  {
   "cell_type": "code",
   "execution_count": 4,
   "id": "6bc2d0fc",
   "metadata": {},
   "outputs": [],
   "source": [
    "export_results = True\n",
    "on_cluster = True # there is some issue with h5py in the local env but it works on cluster so w/e\n",
    "export_folder = f'export'\n",
    "\n",
    "date_format = \"%d%m%Y%H%M%S\" # timestamp format in exported files\n",
    "if export_results:\n",
    "    import datetime\n",
    "    import os\n",
    "    if not os.path.exists(export_folder): \n",
    "      os.makedirs(export_folder)\n",
    "      print(\"Created new directory %s\" %export_folder)"
   ]
  },
  {
   "cell_type": "markdown",
   "id": "b532ce61",
   "metadata": {},
   "source": [
    "#### Resolution Setup"
   ]
  },
  {
   "cell_type": "code",
   "execution_count": 5,
   "id": "914403e9",
   "metadata": {},
   "outputs": [],
   "source": [
    "img_pixel = 224 # default : 128"
   ]
  },
  {
   "cell_type": "markdown",
   "id": "8bc5587e",
   "metadata": {},
   "source": [
    "#### Timer\n",
    "\n",
    "Start the timer"
   ]
  },
  {
   "cell_type": "code",
   "execution_count": 6,
   "id": "0de434fc",
   "metadata": {},
   "outputs": [],
   "source": [
    "import time\n",
    "start = time.time()"
   ]
  },
  {
   "cell_type": "markdown",
   "id": "a75ece47",
   "metadata": {},
   "source": [
    "## 2. Get data"
   ]
  },
  {
   "cell_type": "markdown",
   "id": "7972b053",
   "metadata": {},
   "source": [
    "#### Data config"
   ]
  },
  {
   "cell_type": "code",
   "execution_count": 7,
   "id": "273e4c3a",
   "metadata": {},
   "outputs": [],
   "source": [
    "downsampled_data = False\n",
    "base_path = \"data\" \n",
    "current_train_melanoma_percentage = 0.08"
   ]
  },
  {
   "cell_type": "markdown",
   "id": "cf1766eb",
   "metadata": {},
   "source": [
    "#### Get image paths\n",
    "For developing models on the cluster the max_images parameter should be removed. Instead call the method get_all_img_paths(img_folder)."
   ]
  },
  {
   "cell_type": "code",
   "execution_count": 8,
   "id": "6ab345af",
   "metadata": {},
   "outputs": [],
   "source": [
    "from utilities import get_all_img_paths, get_img_paths\n",
    "\n",
    "img_folder_train = base_path + \"/train\" + (\"_downsampled\" if downsampled_data else \"\")\n",
    "img_folder_test = base_path + \"/test\" + (\"_downsampled\" if downsampled_data else \"\")\n",
    "\n",
    "max_images_train = 50\n",
    "max_images_test = 5\n",
    "\n",
    "img_paths_train = get_img_paths(img_folder_train, max_images_train) \n",
    "img_paths_test = get_img_paths(img_folder_test, max_images_test)"
   ]
  },
  {
   "cell_type": "markdown",
   "id": "c7f060dc",
   "metadata": {},
   "source": [
    "#### Load data\n",
    "Loads the images specified in img_paths into a data frame. This includes resizing the images and flattening them into an array and may take a while."
   ]
  },
  {
   "cell_type": "code",
   "execution_count": 9,
   "id": "7e0d5931",
   "metadata": {},
   "outputs": [
    {
     "name": "stdout",
     "output_type": "stream",
     "text": [
      "Num images per thread 5\n",
      "start loading train\n",
      "start thread #0 for train\n",
      "start loading test\n",
      "start thread #0 for test\n",
      "start thread #1 for train\n",
      "start thread #2 for train\n",
      "start thread #3 for train\n",
      "start thread #4 for train\n",
      "start thread #5 for train\n",
      "start thread #6 for train\n",
      "start thread #7 for train\n",
      "start thread #8 for train\n",
      "start thread #9 for train\n",
      "finished thread #5 for train\n",
      "finished thread #0 for test\n",
      "done loading test\n",
      "finished thread #4 for train\n",
      "finished thread #9 for train\n",
      "finished thread #0 for train\n",
      "finished thread #8 for train\n",
      "finished thread #1 for train\n",
      "finished thread #7 for train\n",
      "finished thread #6 for train\n",
      "finished thread #2 for trainfinished thread #3 for train\n",
      "\n",
      "done loading train\n"
     ]
    }
   ],
   "source": [
    "from utilities import load_train_test\n",
    "\n",
    "groundtruth_file_train = base_path + \"/ISIC_2020_2019_train\" + (\"_downsampled\" if downsampled_data else \"\") + \".csv\" \n",
    "groundtruth_file_test = base_path + \"/ISIC_2020_2019_test\" + (\"_downsampled\" if downsampled_data else \"\") + \".csv\"\n",
    "\n",
    "\n",
    "# available options\n",
    "options = [\"sequential\", # first load train, then load test\n",
    "           \"parallel_train_test\", # load train and test parallel (load data within train and test sequential)\n",
    "           \"sequential_train_test_parallel_chunks\", # load first train, then test, but load the data within the sets parallel\n",
    "           \"parallel_fusion\" # run train and test parallel and parallely load data with train and test \n",
    "          ]\n",
    "\n",
    "# chose an option\n",
    "option = \"parallel_fusion\"\n",
    "\n",
    "df_train, df_test = load_train_test(img_paths_train, groundtruth_file_train, \n",
    "                                    img_paths_test, groundtruth_file_test, \n",
    "                                    option, img_pixel);"
   ]
  },
  {
   "cell_type": "markdown",
   "id": "1f16c287",
   "metadata": {},
   "source": [
    "#### Split into target and predictors"
   ]
  },
  {
   "cell_type": "code",
   "execution_count": 10,
   "id": "e72c98e0",
   "metadata": {},
   "outputs": [],
   "source": [
    "from utilities import split_predictors_target\n",
    "\n",
    "X_train, y_train = split_predictors_target(df_train) \n",
    "X_test, y_test = split_predictors_target(df_test) "
   ]
  },
  {
   "cell_type": "code",
   "execution_count": 11,
   "id": "fb9de0cb",
   "metadata": {},
   "outputs": [],
   "source": [
    "from utilities import unflatten_images_df\n",
    "\n",
    "# this should rlly be optimized so that this step is no longer necessary lol\n",
    "X_train = unflatten_images_df(X_train, img_pixel=img_pixel)\n",
    "X_test = unflatten_images_df(X_test, img_pixel=img_pixel)"
   ]
  },
  {
   "cell_type": "markdown",
   "id": "4228c79e",
   "metadata": {},
   "source": [
    "#### Delete some no longer needed data"
   ]
  },
  {
   "cell_type": "code",
   "execution_count": 12,
   "id": "b7772356",
   "metadata": {},
   "outputs": [],
   "source": [
    "del(df_train)\n",
    "del(df_test)\n",
    "del(img_paths_train)\n",
    "del(img_paths_test)"
   ]
  },
  {
   "cell_type": "markdown",
   "id": "b48e7ad2",
   "metadata": {},
   "source": [
    "## 3. Train model"
   ]
  },
  {
   "cell_type": "markdown",
   "id": "684dad24",
   "metadata": {},
   "source": [
    "#### Util functions for training etc."
   ]
  },
  {
   "cell_type": "code",
   "execution_count": 13,
   "id": "b3fad8e5",
   "metadata": {},
   "outputs": [],
   "source": [
    "from keras.callbacks import EarlyStopping\n",
    "from keras.callbacks import ReduceLROnPlateau \n",
    "from keras.callbacks import CSVLogger\n",
    "\n",
    "melanoma_weight = (1/current_train_melanoma_percentage)/2\n",
    "class_weight = {0: 1.,\n",
    "                1: melanoma_weight,}\n",
    "\n",
    "lr_scheduler = ReduceLROnPlateau(factor=0.5, patience=5)\n",
    "\n",
    "def unfreeze_model(model, num=20): # a function to unfreeze x layers of a model\n",
    "    for layer in model.layers[-num:]:\n",
    "        if not isinstance(layer, layers.BatchNormalization):\n",
    "            layer.trainable = True\n",
    "            \n",
    "def compile_model(model, lr=0.001):\n",
    "    model.compile(loss='binary_crossentropy', optimizer=Nadam(lr), metrics=['accuracy', Recall(name=\"recall\")])\n",
    "    \n",
    "def fit_model(model):\n",
    "    callbacks = [EarlyStopping(patience=10), lr_scheduler]\n",
    "    if export_results:\n",
    "        filename = export_folder + \"/training_log_\"+datetime.datetime.now().strftime(date_format)+\".csv\"\n",
    "        callbacks.append(CSVLogger(filename, separator=\",\", append=False))\n",
    "\n",
    "    history = model.fit(X_train, y_train, \n",
    "                        validation_data=(X_test, y_test), \n",
    "                        batch_size=32, epochs=100,\n",
    "                        class_weight=class_weight,\n",
    "                        callbacks=callbacks)\n",
    "    return history"
   ]
  },
  {
   "cell_type": "markdown",
   "id": "e3bf8aff",
   "metadata": {},
   "source": [
    "#### Util functions for evaluation"
   ]
  },
  {
   "cell_type": "code",
   "execution_count": 21,
   "id": "a0fb9b0b",
   "metadata": {},
   "outputs": [],
   "source": [
    "from matplotlib import pyplot\n",
    "import seaborn as sns\n",
    "from sklearn.metrics import confusion_matrix\n",
    "\n",
    "def eval_model(model, history, name):\n",
    "    display_history(history,name)\n",
    "    display_confusion_matrix(model,name)\n",
    "\n",
    "def display_history(history, name):\n",
    "    _, axs = pyplot.subplots(3, 1, figsize=(20,15))\n",
    "\n",
    "    # plot loss during training\n",
    "    axs[0].plot(history_frozen.history['loss'], label='train')\n",
    "    axs[0].plot(history_frozen.history['val_loss'], label='test')\n",
    "    axs[0].set_title(\"Loss\")\n",
    "    axs[0].legend()\n",
    "\n",
    "    # plot accuracy during training\n",
    "    axs[1].plot(history_frozen.history['accuracy'], label='train')\n",
    "    axs[1].plot(history_frozen.history['val_accuracy'], label='test')\n",
    "    axs[1].set_title(\"Accuracy\")\n",
    "    axs[1].legend()\n",
    "\n",
    "    # plot recall during training\n",
    "    axs[2].plot(history_frozen.history['recall'], label='train')\n",
    "    axs[2].plot(history_frozen.history['val_recall'], label='test')\n",
    "    axs[2].set_title(\"Recall\")\n",
    "    axs[2].legend()\n",
    "\n",
    "    if export_results:\n",
    "        pyplot.savefig(export_folder + \"/loss_and_accuracy_during_training_\"+name+\"_\"+datetime.datetime.now().strftime(date_format)+\".png\")\n",
    "\n",
    "    pyplot.show()\n",
    "    \n",
    "def display_confusion_matrix(mode, name):\n",
    "    y_pred_continuous = model.predict(X_test)\n",
    "    y_pred_discrete = (model.predict(X_test) > 0.5).astype(\"int32\")\n",
    "    y_pred = y_pred_discrete\n",
    "    \n",
    "    from sklearn.metrics import classification_report\n",
    "    report = classification_report(y_test, y_pred, digits=4)\n",
    "    print(f'\\nClassification_report=\\n{report}')\n",
    "\n",
    "    if export_results:\n",
    "        file = open(export_folder + \"/classification_report_\"+name+\"_\"+datetime.datetime.now().strftime(date_format)+\".txt\", 'w')\n",
    "        file.write(report)\n",
    "        file.close()\n",
    "        \n",
    "    class_names = [\"no melanoma\", \"melanoma\"]\n",
    "\n",
    "    cf = confusion_matrix(y_test, y_pred)\n",
    "    plot = sns.heatmap(cf, annot= True, fmt=\".0f\",\n",
    "               xticklabels = class_names,\n",
    "               yticklabels = class_names)\n",
    "    plot.set(xlabel='Prediction', ylabel='Actual')\n",
    "\n",
    "    if export_results:\n",
    "        plot.get_figure().savefig(export_folder + '/confusion_matrix_' +name + \"_\" + datetime.datetime.now().strftime(date_format) + \".png\")"
   ]
  },
  {
   "cell_type": "markdown",
   "id": "4098a0d2",
   "metadata": {},
   "source": [
    "#### Build model"
   ]
  },
  {
   "cell_type": "code",
   "execution_count": 16,
   "id": "625b6069",
   "metadata": {},
   "outputs": [],
   "source": [
    "import sklearn \n",
    "from tensorflow.keras.models import Sequential\n",
    "from tensorflow.keras import optimizers, losses, activations, models\n",
    "from tensorflow.keras.layers import Convolution2D, Dense, Input, Flatten, Dropout, MaxPooling2D, BatchNormalization, GlobalAveragePooling2D, Concatenate\n",
    "from tensorflow.keras.metrics import Recall\n",
    "from tensorflow.keras.optimizers import RMSprop, Adam, SGD, Nadam\n",
    "import keras\n",
    "from tensorflow.keras import layers\n",
    "\n",
    "# build model\n",
    "add_model = Sequential()\n",
    "base_model = efn.EfficientNetB0(input_shape=(img_pixel ,img_pixel , 3),weights='imagenet',include_top=False)\n",
    "base_model.trainable = False # freezing all the layers\n",
    "add_model.add(base_model)\n",
    "add_model.add(GlobalAveragePooling2D(name=\"avg_pool\"))\n",
    "add_model.add(BatchNormalization())\n",
    "top_dropout_rate = 0.2\n",
    "add_model.add(Dropout(top_dropout_rate, name=\"top_dropout\"))\n",
    "add_model.add(Dense(1, activation='sigmoid'))\n",
    "model = add_model"
   ]
  },
  {
   "cell_type": "markdown",
   "id": "d8099bfa",
   "metadata": {},
   "source": [
    "#### Train model (while still frozen)"
   ]
  },
  {
   "cell_type": "code",
   "execution_count": 17,
   "id": "c8e698ff",
   "metadata": {},
   "outputs": [
    {
     "name": "stdout",
     "output_type": "stream",
     "text": [
      "Epoch 1/100\n",
      "2/2 [==============================] - 32s 7s/step - loss: 1.8579 - accuracy: 0.5600 - recall: 0.5556 - val_loss: 1.0636 - val_accuracy: 0.0000e+00 - val_recall: 0.0000e+00 - lr: 0.0010\n",
      "Epoch 2/100\n",
      "2/2 [==============================] - 7s 3s/step - loss: 1.4169 - accuracy: 0.5200 - recall: 0.7778 - val_loss: 1.0590 - val_accuracy: 0.0000e+00 - val_recall: 0.0000e+00 - lr: 0.0010\n",
      "Epoch 3/100\n",
      "2/2 [==============================] - 7s 3s/step - loss: 1.5066 - accuracy: 0.5600 - recall: 0.6667 - val_loss: 1.0564 - val_accuracy: 0.0000e+00 - val_recall: 0.0000e+00 - lr: 0.0010\n",
      "Epoch 4/100\n",
      "2/2 [==============================] - 7s 3s/step - loss: 1.4058 - accuracy: 0.5600 - recall: 0.6667 - val_loss: 1.0589 - val_accuracy: 0.0000e+00 - val_recall: 0.0000e+00 - lr: 0.0010\n",
      "Epoch 5/100\n",
      "2/2 [==============================] - 7s 3s/step - loss: 0.9995 - accuracy: 0.6600 - recall: 0.8889 - val_loss: 1.0425 - val_accuracy: 0.0000e+00 - val_recall: 0.0000e+00 - lr: 0.0010\n",
      "Epoch 6/100\n",
      "2/2 [==============================] - 7s 3s/step - loss: 1.0888 - accuracy: 0.5400 - recall: 0.7778 - val_loss: 1.0204 - val_accuracy: 0.0000e+00 - val_recall: 0.0000e+00 - lr: 0.0010\n",
      "Epoch 7/100\n",
      "2/2 [==============================] - 8s 3s/step - loss: 1.1536 - accuracy: 0.4800 - recall: 0.6667 - val_loss: 1.0002 - val_accuracy: 0.0000e+00 - val_recall: 0.0000e+00 - lr: 0.0010\n",
      "Epoch 8/100\n",
      "2/2 [==============================] - 8s 4s/step - loss: 0.8343 - accuracy: 0.7000 - recall: 1.0000 - val_loss: 0.9709 - val_accuracy: 0.0000e+00 - val_recall: 0.0000e+00 - lr: 0.0010\n",
      "Epoch 9/100\n",
      "2/2 [==============================] - 8s 4s/step - loss: 0.8672 - accuracy: 0.6400 - recall: 1.0000 - val_loss: 0.9290 - val_accuracy: 0.2000 - val_recall: 0.0000e+00 - lr: 0.0010\n",
      "Epoch 10/100\n",
      "2/2 [==============================] - 9s 4s/step - loss: 0.9175 - accuracy: 0.6400 - recall: 0.8889 - val_loss: 0.8800 - val_accuracy: 0.2000 - val_recall: 0.0000e+00 - lr: 0.0010\n",
      "Epoch 11/100\n",
      "2/2 [==============================] - 9s 3s/step - loss: 0.7776 - accuracy: 0.6400 - recall: 0.8889 - val_loss: 0.8648 - val_accuracy: 0.2000 - val_recall: 0.0000e+00 - lr: 0.0010\n",
      "Epoch 12/100\n",
      "2/2 [==============================] - 8s 3s/step - loss: 0.6041 - accuracy: 0.7400 - recall: 1.0000 - val_loss: 0.8149 - val_accuracy: 0.4000 - val_recall: 0.0000e+00 - lr: 0.0010\n",
      "Epoch 13/100\n",
      "2/2 [==============================] - 7s 3s/step - loss: 0.8841 - accuracy: 0.7400 - recall: 0.7778 - val_loss: 0.7885 - val_accuracy: 0.4000 - val_recall: 0.0000e+00 - lr: 0.0010\n",
      "Epoch 14/100\n",
      "2/2 [==============================] - 7s 3s/step - loss: 0.7849 - accuracy: 0.7600 - recall: 1.0000 - val_loss: 0.7737 - val_accuracy: 0.4000 - val_recall: 0.0000e+00 - lr: 0.0010\n",
      "Epoch 15/100\n",
      "2/2 [==============================] - 7s 3s/step - loss: 0.6790 - accuracy: 0.8000 - recall: 1.0000 - val_loss: 0.7500 - val_accuracy: 0.4000 - val_recall: 0.0000e+00 - lr: 0.0010\n",
      "Epoch 16/100\n",
      "2/2 [==============================] - 7s 3s/step - loss: 0.5835 - accuracy: 0.7400 - recall: 1.0000 - val_loss: 0.7124 - val_accuracy: 0.4000 - val_recall: 0.0000e+00 - lr: 0.0010\n",
      "Epoch 17/100\n",
      "2/2 [==============================] - 7s 3s/step - loss: 0.6340 - accuracy: 0.7400 - recall: 0.8889 - val_loss: 0.6915 - val_accuracy: 0.4000 - val_recall: 0.0000e+00 - lr: 0.0010\n",
      "Epoch 18/100\n",
      "2/2 [==============================] - 7s 3s/step - loss: 0.5657 - accuracy: 0.7200 - recall: 1.0000 - val_loss: 0.6561 - val_accuracy: 0.4000 - val_recall: 0.0000e+00 - lr: 0.0010\n",
      "Epoch 19/100\n",
      "2/2 [==============================] - 7s 3s/step - loss: 0.5906 - accuracy: 0.8200 - recall: 0.8889 - val_loss: 0.6227 - val_accuracy: 0.6000 - val_recall: 0.0000e+00 - lr: 0.0010\n",
      "Epoch 20/100\n",
      "2/2 [==============================] - 8s 3s/step - loss: 0.4232 - accuracy: 0.8400 - recall: 1.0000 - val_loss: 0.5857 - val_accuracy: 0.6000 - val_recall: 0.0000e+00 - lr: 0.0010\n",
      "Epoch 21/100\n",
      "2/2 [==============================] - 8s 4s/step - loss: 0.4932 - accuracy: 0.8400 - recall: 1.0000 - val_loss: 0.5554 - val_accuracy: 0.8000 - val_recall: 0.0000e+00 - lr: 0.0010\n",
      "Epoch 22/100\n",
      "2/2 [==============================] - 9s 4s/step - loss: 0.7167 - accuracy: 0.8000 - recall: 0.7778 - val_loss: 0.5476 - val_accuracy: 0.8000 - val_recall: 0.0000e+00 - lr: 0.0010\n",
      "Epoch 23/100\n",
      "2/2 [==============================] - 8s 3s/step - loss: 0.4577 - accuracy: 0.8600 - recall: 1.0000 - val_loss: 0.5194 - val_accuracy: 0.8000 - val_recall: 0.0000e+00 - lr: 0.0010\n",
      "Epoch 24/100\n",
      "2/2 [==============================] - 8s 3s/step - loss: 0.3945 - accuracy: 0.9000 - recall: 1.0000 - val_loss: 0.4954 - val_accuracy: 0.8000 - val_recall: 0.0000e+00 - lr: 0.0010\n",
      "Epoch 25/100\n",
      "2/2 [==============================] - 7s 3s/step - loss: 0.6281 - accuracy: 0.8400 - recall: 0.8889 - val_loss: 0.4722 - val_accuracy: 0.8000 - val_recall: 0.0000e+00 - lr: 0.0010\n",
      "Epoch 26/100\n",
      "2/2 [==============================] - 7s 3s/step - loss: 0.3711 - accuracy: 0.9000 - recall: 1.0000 - val_loss: 0.4482 - val_accuracy: 1.0000 - val_recall: 0.0000e+00 - lr: 0.0010\n",
      "Epoch 27/100\n",
      "2/2 [==============================] - 10s 4s/step - loss: 0.3658 - accuracy: 0.8800 - recall: 1.0000 - val_loss: 0.4252 - val_accuracy: 1.0000 - val_recall: 0.0000e+00 - lr: 0.0010\n",
      "Epoch 28/100\n",
      "2/2 [==============================] - 9s 3s/step - loss: 0.3411 - accuracy: 0.9200 - recall: 1.0000 - val_loss: 0.4114 - val_accuracy: 1.0000 - val_recall: 0.0000e+00 - lr: 0.0010\n",
      "Epoch 29/100\n",
      "2/2 [==============================] - 7s 3s/step - loss: 0.3687 - accuracy: 0.9200 - recall: 1.0000 - val_loss: 0.3947 - val_accuracy: 1.0000 - val_recall: 0.0000e+00 - lr: 0.0010\n",
      "Epoch 30/100\n",
      "2/2 [==============================] - 7s 3s/step - loss: 0.4064 - accuracy: 0.9200 - recall: 0.8889 - val_loss: 0.3805 - val_accuracy: 1.0000 - val_recall: 0.0000e+00 - lr: 0.0010\n",
      "Epoch 31/100\n",
      "2/2 [==============================] - 7s 3s/step - loss: 0.3538 - accuracy: 0.9600 - recall: 1.0000 - val_loss: 0.3760 - val_accuracy: 1.0000 - val_recall: 0.0000e+00 - lr: 0.0010\n",
      "Epoch 32/100\n",
      "2/2 [==============================] - 7s 3s/step - loss: 0.3262 - accuracy: 0.9200 - recall: 1.0000 - val_loss: 0.3613 - val_accuracy: 1.0000 - val_recall: 0.0000e+00 - lr: 0.0010\n",
      "Epoch 33/100\n",
      "2/2 [==============================] - 7s 3s/step - loss: 0.3453 - accuracy: 0.9200 - recall: 1.0000 - val_loss: 0.3481 - val_accuracy: 1.0000 - val_recall: 0.0000e+00 - lr: 0.0010\n",
      "Epoch 34/100\n",
      "2/2 [==============================] - 7s 3s/step - loss: 0.3102 - accuracy: 0.9800 - recall: 1.0000 - val_loss: 0.3342 - val_accuracy: 1.0000 - val_recall: 0.0000e+00 - lr: 0.0010\n",
      "Epoch 35/100\n",
      "2/2 [==============================] - 7s 3s/step - loss: 0.3633 - accuracy: 0.9800 - recall: 0.8889 - val_loss: 0.3343 - val_accuracy: 1.0000 - val_recall: 0.0000e+00 - lr: 0.0010\n",
      "Epoch 36/100\n",
      "2/2 [==============================] - 7s 3s/step - loss: 0.2708 - accuracy: 0.9600 - recall: 1.0000 - val_loss: 0.3213 - val_accuracy: 1.0000 - val_recall: 0.0000e+00 - lr: 0.0010\n",
      "Epoch 37/100\n",
      "2/2 [==============================] - 7s 3s/step - loss: 0.2563 - accuracy: 0.9600 - recall: 1.0000 - val_loss: 0.3138 - val_accuracy: 1.0000 - val_recall: 0.0000e+00 - lr: 0.0010\n",
      "Epoch 38/100\n",
      "2/2 [==============================] - 7s 3s/step - loss: 0.2603 - accuracy: 0.9600 - recall: 1.0000 - val_loss: 0.3035 - val_accuracy: 1.0000 - val_recall: 0.0000e+00 - lr: 0.0010\n",
      "Epoch 39/100\n",
      "2/2 [==============================] - 8s 4s/step - loss: 0.2073 - accuracy: 0.9600 - recall: 1.0000 - val_loss: 0.2941 - val_accuracy: 1.0000 - val_recall: 0.0000e+00 - lr: 0.0010\n",
      "Epoch 40/100\n",
      "2/2 [==============================] - 7s 3s/step - loss: 0.2381 - accuracy: 0.9400 - recall: 1.0000 - val_loss: 0.2836 - val_accuracy: 1.0000 - val_recall: 0.0000e+00 - lr: 0.0010\n",
      "Epoch 41/100\n",
      "2/2 [==============================] - 7s 3s/step - loss: 0.2291 - accuracy: 0.9400 - recall: 1.0000 - val_loss: 0.2723 - val_accuracy: 1.0000 - val_recall: 0.0000e+00 - lr: 0.0010\n",
      "Epoch 42/100\n",
      "2/2 [==============================] - 7s 3s/step - loss: 0.3684 - accuracy: 0.9800 - recall: 1.0000 - val_loss: 0.2673 - val_accuracy: 1.0000 - val_recall: 0.0000e+00 - lr: 0.0010\n",
      "Epoch 43/100\n"
     ]
    },
    {
     "name": "stdout",
     "output_type": "stream",
     "text": [
      "2/2 [==============================] - 7s 3s/step - loss: 0.2856 - accuracy: 0.9800 - recall: 1.0000 - val_loss: 0.2606 - val_accuracy: 1.0000 - val_recall: 0.0000e+00 - lr: 0.0010\n",
      "Epoch 44/100\n",
      "2/2 [==============================] - 7s 3s/step - loss: 0.3059 - accuracy: 0.9400 - recall: 0.8889 - val_loss: 0.2618 - val_accuracy: 1.0000 - val_recall: 0.0000e+00 - lr: 0.0010\n",
      "Epoch 45/100\n",
      "2/2 [==============================] - 8s 3s/step - loss: 0.1972 - accuracy: 0.9600 - recall: 1.0000 - val_loss: 0.2558 - val_accuracy: 1.0000 - val_recall: 0.0000e+00 - lr: 0.0010\n",
      "Epoch 46/100\n",
      "2/2 [==============================] - 7s 3s/step - loss: 0.1917 - accuracy: 0.9400 - recall: 1.0000 - val_loss: 0.2458 - val_accuracy: 1.0000 - val_recall: 0.0000e+00 - lr: 0.0010\n",
      "Epoch 47/100\n",
      "2/2 [==============================] - 7s 3s/step - loss: 0.3448 - accuracy: 0.9000 - recall: 0.8889 - val_loss: 0.2370 - val_accuracy: 1.0000 - val_recall: 0.0000e+00 - lr: 0.0010\n",
      "Epoch 48/100\n",
      "2/2 [==============================] - 7s 3s/step - loss: 0.2300 - accuracy: 0.9400 - recall: 1.0000 - val_loss: 0.2302 - val_accuracy: 1.0000 - val_recall: 0.0000e+00 - lr: 0.0010\n",
      "Epoch 49/100\n",
      "2/2 [==============================] - 7s 3s/step - loss: 0.2139 - accuracy: 0.9800 - recall: 1.0000 - val_loss: 0.2231 - val_accuracy: 1.0000 - val_recall: 0.0000e+00 - lr: 0.0010\n",
      "Epoch 50/100\n",
      "2/2 [==============================] - 7s 3s/step - loss: 0.3133 - accuracy: 0.9800 - recall: 0.8889 - val_loss: 0.2158 - val_accuracy: 1.0000 - val_recall: 0.0000e+00 - lr: 0.0010\n",
      "Epoch 51/100\n",
      "2/2 [==============================] - 7s 3s/step - loss: 0.2821 - accuracy: 0.9800 - recall: 1.0000 - val_loss: 0.2137 - val_accuracy: 1.0000 - val_recall: 0.0000e+00 - lr: 0.0010\n",
      "Epoch 52/100\n",
      "2/2 [==============================] - 7s 3s/step - loss: 0.2534 - accuracy: 0.9800 - recall: 0.8889 - val_loss: 0.2107 - val_accuracy: 1.0000 - val_recall: 0.0000e+00 - lr: 0.0010\n",
      "Epoch 53/100\n",
      "2/2 [==============================] - 8s 3s/step - loss: 0.1689 - accuracy: 0.9800 - recall: 1.0000 - val_loss: 0.2027 - val_accuracy: 1.0000 - val_recall: 0.0000e+00 - lr: 0.0010\n",
      "Epoch 54/100\n",
      "2/2 [==============================] - 7s 3s/step - loss: 0.1593 - accuracy: 0.9800 - recall: 1.0000 - val_loss: 0.1974 - val_accuracy: 1.0000 - val_recall: 0.0000e+00 - lr: 0.0010\n",
      "Epoch 55/100\n",
      "2/2 [==============================] - 7s 3s/step - loss: 0.2345 - accuracy: 0.9800 - recall: 0.8889 - val_loss: 0.1949 - val_accuracy: 1.0000 - val_recall: 0.0000e+00 - lr: 0.0010\n",
      "Epoch 56/100\n",
      "2/2 [==============================] - 7s 3s/step - loss: 0.1759 - accuracy: 1.0000 - recall: 1.0000 - val_loss: 0.1918 - val_accuracy: 1.0000 - val_recall: 0.0000e+00 - lr: 0.0010\n",
      "Epoch 57/100\n",
      "2/2 [==============================] - 7s 3s/step - loss: 0.1789 - accuracy: 0.9800 - recall: 1.0000 - val_loss: 0.1868 - val_accuracy: 1.0000 - val_recall: 0.0000e+00 - lr: 0.0010\n",
      "Epoch 58/100\n",
      "2/2 [==============================] - 7s 3s/step - loss: 0.1392 - accuracy: 0.9800 - recall: 1.0000 - val_loss: 0.1817 - val_accuracy: 1.0000 - val_recall: 0.0000e+00 - lr: 0.0010\n",
      "Epoch 59/100\n",
      "2/2 [==============================] - 7s 3s/step - loss: 0.1710 - accuracy: 0.9800 - recall: 1.0000 - val_loss: 0.1753 - val_accuracy: 1.0000 - val_recall: 0.0000e+00 - lr: 0.0010\n",
      "Epoch 60/100\n",
      "2/2 [==============================] - 7s 3s/step - loss: 0.1547 - accuracy: 1.0000 - recall: 1.0000 - val_loss: 0.1695 - val_accuracy: 1.0000 - val_recall: 0.0000e+00 - lr: 0.0010\n",
      "Epoch 61/100\n",
      "2/2 [==============================] - 7s 3s/step - loss: 0.2287 - accuracy: 1.0000 - recall: 1.0000 - val_loss: 0.1643 - val_accuracy: 1.0000 - val_recall: 0.0000e+00 - lr: 0.0010\n",
      "Epoch 62/100\n",
      "2/2 [==============================] - 7s 3s/step - loss: 0.2400 - accuracy: 0.9400 - recall: 1.0000 - val_loss: 0.1618 - val_accuracy: 1.0000 - val_recall: 0.0000e+00 - lr: 0.0010\n",
      "Epoch 63/100\n",
      "2/2 [==============================] - 7s 3s/step - loss: 0.1017 - accuracy: 1.0000 - recall: 1.0000 - val_loss: 0.1584 - val_accuracy: 1.0000 - val_recall: 0.0000e+00 - lr: 0.0010\n",
      "Epoch 64/100\n",
      "2/2 [==============================] - 7s 3s/step - loss: 0.1407 - accuracy: 1.0000 - recall: 1.0000 - val_loss: 0.1558 - val_accuracy: 1.0000 - val_recall: 0.0000e+00 - lr: 0.0010\n",
      "Epoch 65/100\n",
      "2/2 [==============================] - 7s 3s/step - loss: 0.1595 - accuracy: 0.9800 - recall: 1.0000 - val_loss: 0.1547 - val_accuracy: 1.0000 - val_recall: 0.0000e+00 - lr: 0.0010\n",
      "Epoch 66/100\n",
      "2/2 [==============================] - 7s 3s/step - loss: 0.1580 - accuracy: 1.0000 - recall: 1.0000 - val_loss: 0.1519 - val_accuracy: 1.0000 - val_recall: 0.0000e+00 - lr: 0.0010\n",
      "Epoch 67/100\n",
      "2/2 [==============================] - 8s 3s/step - loss: 0.1601 - accuracy: 0.9600 - recall: 1.0000 - val_loss: 0.1488 - val_accuracy: 1.0000 - val_recall: 0.0000e+00 - lr: 0.0010\n",
      "Epoch 68/100\n",
      "2/2 [==============================] - 7s 3s/step - loss: 0.1446 - accuracy: 1.0000 - recall: 1.0000 - val_loss: 0.1466 - val_accuracy: 1.0000 - val_recall: 0.0000e+00 - lr: 0.0010\n",
      "Epoch 69/100\n",
      "2/2 [==============================] - 7s 3s/step - loss: 0.1259 - accuracy: 0.9800 - recall: 1.0000 - val_loss: 0.1440 - val_accuracy: 1.0000 - val_recall: 0.0000e+00 - lr: 0.0010\n",
      "Epoch 70/100\n",
      "2/2 [==============================] - 8s 3s/step - loss: 0.1405 - accuracy: 1.0000 - recall: 1.0000 - val_loss: 0.1418 - val_accuracy: 1.0000 - val_recall: 0.0000e+00 - lr: 0.0010\n",
      "Epoch 71/100\n",
      "2/2 [==============================] - 7s 3s/step - loss: 0.1587 - accuracy: 0.9800 - recall: 1.0000 - val_loss: 0.1378 - val_accuracy: 1.0000 - val_recall: 0.0000e+00 - lr: 0.0010\n",
      "Epoch 72/100\n",
      "2/2 [==============================] - 7s 3s/step - loss: 0.0754 - accuracy: 1.0000 - recall: 1.0000 - val_loss: 0.1353 - val_accuracy: 1.0000 - val_recall: 0.0000e+00 - lr: 0.0010\n",
      "Epoch 73/100\n",
      "2/2 [==============================] - 7s 3s/step - loss: 0.1260 - accuracy: 1.0000 - recall: 1.0000 - val_loss: 0.1356 - val_accuracy: 1.0000 - val_recall: 0.0000e+00 - lr: 0.0010\n",
      "Epoch 74/100\n",
      "2/2 [==============================] - 7s 3s/step - loss: 0.6128 - accuracy: 0.9400 - recall: 0.8889 - val_loss: 0.1286 - val_accuracy: 1.0000 - val_recall: 0.0000e+00 - lr: 0.0010\n",
      "Epoch 75/100\n",
      "2/2 [==============================] - 7s 3s/step - loss: 0.1429 - accuracy: 0.9800 - recall: 1.0000 - val_loss: 0.1280 - val_accuracy: 1.0000 - val_recall: 0.0000e+00 - lr: 0.0010\n",
      "Epoch 76/100\n",
      "2/2 [==============================] - 7s 3s/step - loss: 0.1788 - accuracy: 0.9400 - recall: 1.0000 - val_loss: 0.1249 - val_accuracy: 1.0000 - val_recall: 0.0000e+00 - lr: 0.0010\n",
      "Epoch 77/100\n",
      "2/2 [==============================] - 7s 3s/step - loss: 0.0924 - accuracy: 1.0000 - recall: 1.0000 - val_loss: 0.1229 - val_accuracy: 1.0000 - val_recall: 0.0000e+00 - lr: 0.0010\n",
      "Epoch 78/100\n",
      "2/2 [==============================] - 8s 4s/step - loss: 0.1635 - accuracy: 1.0000 - recall: 1.0000 - val_loss: 0.1237 - val_accuracy: 1.0000 - val_recall: 0.0000e+00 - lr: 0.0010\n",
      "Epoch 79/100\n",
      "2/2 [==============================] - 8s 3s/step - loss: 0.1140 - accuracy: 1.0000 - recall: 1.0000 - val_loss: 0.1232 - val_accuracy: 1.0000 - val_recall: 0.0000e+00 - lr: 0.0010\n",
      "Epoch 80/100\n",
      "2/2 [==============================] - 8s 4s/step - loss: 0.1284 - accuracy: 1.0000 - recall: 1.0000 - val_loss: 0.1220 - val_accuracy: 1.0000 - val_recall: 0.0000e+00 - lr: 0.0010\n",
      "Epoch 81/100\n",
      "2/2 [==============================] - 8s 3s/step - loss: 0.0932 - accuracy: 1.0000 - recall: 1.0000 - val_loss: 0.1206 - val_accuracy: 1.0000 - val_recall: 0.0000e+00 - lr: 0.0010\n",
      "Epoch 82/100\n",
      "2/2 [==============================] - 8s 3s/step - loss: 0.1382 - accuracy: 1.0000 - recall: 1.0000 - val_loss: 0.1190 - val_accuracy: 1.0000 - val_recall: 0.0000e+00 - lr: 0.0010\n",
      "Epoch 83/100\n",
      "2/2 [==============================] - 8s 3s/step - loss: 0.0780 - accuracy: 1.0000 - recall: 1.0000 - val_loss: 0.1163 - val_accuracy: 1.0000 - val_recall: 0.0000e+00 - lr: 0.0010\n",
      "Epoch 84/100\n",
      "2/2 [==============================] - 8s 3s/step - loss: 0.1686 - accuracy: 0.9800 - recall: 1.0000 - val_loss: 0.1167 - val_accuracy: 1.0000 - val_recall: 0.0000e+00 - lr: 0.0010\n",
      "Epoch 85/100\n"
     ]
    },
    {
     "name": "stdout",
     "output_type": "stream",
     "text": [
      "2/2 [==============================] - 7s 3s/step - loss: 0.1277 - accuracy: 1.0000 - recall: 1.0000 - val_loss: 0.1147 - val_accuracy: 1.0000 - val_recall: 0.0000e+00 - lr: 0.0010\n",
      "Epoch 86/100\n",
      "2/2 [==============================] - 8s 4s/step - loss: 0.1025 - accuracy: 1.0000 - recall: 1.0000 - val_loss: 0.1121 - val_accuracy: 1.0000 - val_recall: 0.0000e+00 - lr: 0.0010\n",
      "Epoch 87/100\n",
      "2/2 [==============================] - 8s 3s/step - loss: 0.2328 - accuracy: 1.0000 - recall: 1.0000 - val_loss: 0.1163 - val_accuracy: 1.0000 - val_recall: 0.0000e+00 - lr: 0.0010\n",
      "Epoch 88/100\n",
      "2/2 [==============================] - 8s 3s/step - loss: 0.2827 - accuracy: 0.9600 - recall: 0.8889 - val_loss: 0.1154 - val_accuracy: 1.0000 - val_recall: 0.0000e+00 - lr: 0.0010\n",
      "Epoch 89/100\n",
      "2/2 [==============================] - 8s 4s/step - loss: 0.1045 - accuracy: 1.0000 - recall: 1.0000 - val_loss: 0.1138 - val_accuracy: 1.0000 - val_recall: 0.0000e+00 - lr: 0.0010\n",
      "Epoch 90/100\n",
      "2/2 [==============================] - 7s 3s/step - loss: 0.1184 - accuracy: 1.0000 - recall: 1.0000 - val_loss: 0.1107 - val_accuracy: 1.0000 - val_recall: 0.0000e+00 - lr: 0.0010\n",
      "Epoch 91/100\n",
      "2/2 [==============================] - 7s 3s/step - loss: 0.0832 - accuracy: 0.9800 - recall: 1.0000 - val_loss: 0.1083 - val_accuracy: 1.0000 - val_recall: 0.0000e+00 - lr: 0.0010\n",
      "Epoch 92/100\n",
      "2/2 [==============================] - 7s 3s/step - loss: 0.0942 - accuracy: 0.9800 - recall: 1.0000 - val_loss: 0.1071 - val_accuracy: 1.0000 - val_recall: 0.0000e+00 - lr: 0.0010\n",
      "Epoch 93/100\n",
      "2/2 [==============================] - 7s 3s/step - loss: 0.1569 - accuracy: 0.9800 - recall: 1.0000 - val_loss: 0.1058 - val_accuracy: 1.0000 - val_recall: 0.0000e+00 - lr: 0.0010\n",
      "Epoch 94/100\n",
      "2/2 [==============================] - 7s 3s/step - loss: 0.0983 - accuracy: 1.0000 - recall: 1.0000 - val_loss: 0.1043 - val_accuracy: 1.0000 - val_recall: 0.0000e+00 - lr: 0.0010\n",
      "Epoch 95/100\n",
      "2/2 [==============================] - 7s 3s/step - loss: 0.1133 - accuracy: 1.0000 - recall: 1.0000 - val_loss: 0.1034 - val_accuracy: 1.0000 - val_recall: 0.0000e+00 - lr: 0.0010\n",
      "Epoch 96/100\n",
      "2/2 [==============================] - 7s 3s/step - loss: 0.0781 - accuracy: 0.9800 - recall: 1.0000 - val_loss: 0.1017 - val_accuracy: 1.0000 - val_recall: 0.0000e+00 - lr: 0.0010\n",
      "Epoch 97/100\n",
      "2/2 [==============================] - 7s 3s/step - loss: 0.0515 - accuracy: 1.0000 - recall: 1.0000 - val_loss: 0.1000 - val_accuracy: 1.0000 - val_recall: 0.0000e+00 - lr: 0.0010\n",
      "Epoch 98/100\n",
      "2/2 [==============================] - 7s 3s/step - loss: 0.0601 - accuracy: 1.0000 - recall: 1.0000 - val_loss: 0.0984 - val_accuracy: 1.0000 - val_recall: 0.0000e+00 - lr: 0.0010\n",
      "Epoch 99/100\n",
      "2/2 [==============================] - 7s 3s/step - loss: 0.1360 - accuracy: 0.9800 - recall: 1.0000 - val_loss: 0.0979 - val_accuracy: 1.0000 - val_recall: 0.0000e+00 - lr: 0.0010\n",
      "Epoch 100/100\n",
      "2/2 [==============================] - 7s 3s/step - loss: 0.0940 - accuracy: 0.9800 - recall: 1.0000 - val_loss: 0.0951 - val_accuracy: 1.0000 - val_recall: 0.0000e+00 - lr: 0.0010\n"
     ]
    }
   ],
   "source": [
    "# first training\n",
    "compile_model(model)\n",
    "history_frozen = fit_model(model)"
   ]
  },
  {
   "cell_type": "code",
   "execution_count": 22,
   "id": "06f4955f",
   "metadata": {},
   "outputs": [
    {
     "data": {
      "image/png": "[encoded data removed]",
      "text/plain": [
       "<Figure size 1440x1080 with 3 Axes>"
      ]
     },
     "metadata": {
      "needs_background": "light"
     },
     "output_type": "display_data"
    },
    {
     "name": "stdout",
     "output_type": "stream",
     "text": [
      "\n",
      "Classification_report=\n",
      "              precision    recall  f1-score   support\n",
      "\n",
      "           0     1.0000    1.0000    1.0000         5\n",
      "\n",
      "    accuracy                         1.0000         5\n",
      "   macro avg     1.0000    1.0000    1.0000         5\n",
      "weighted avg     1.0000    1.0000    1.0000         5\n",
      "\n"
     ]
    },
    {
     "data": {
      "image/png": "[encoded data removed]",
      "text/plain": [
       "<Figure size 432x288 with 2 Axes>"
      ]
     },
     "metadata": {
      "needs_background": "light"
     },
     "output_type": "display_data"
    }
   ],
   "source": [
    "eval_model(model, history_frozen, \"frozen\")"
   ]
  },
  {
   "cell_type": "markdown",
   "id": "3137e629",
   "metadata": {},
   "source": [
    "#### Unfreeze and retrain"
   ]
  },
  {
   "cell_type": "code",
   "execution_count": null,
   "id": "749f3d98",
   "metadata": {},
   "outputs": [
    {
     "name": "stdout",
     "output_type": "stream",
     "text": [
      "Epoch 1/100\n"
     ]
    }
   ],
   "source": [
    "unfreeze_model(model, 20)\n",
    "compile_model(model, 0.0001) # extra low learning rate to avoid overfitting\n",
    "history = fit_model(model)"
   ]
  },
  {
   "cell_type": "code",
   "execution_count": null,
   "id": "2a36cc99",
   "metadata": {},
   "outputs": [],
   "source": [
    "eval_model(model, history, \"unfrozen\")"
   ]
  },
  {
   "cell_type": "markdown",
   "id": "cc931164",
   "metadata": {},
   "source": [
    "#### Investigate final model"
   ]
  },
  {
   "cell_type": "code",
   "execution_count": null,
   "id": "3b46b62d",
   "metadata": {},
   "outputs": [],
   "source": [
    "# print out model\n",
    "model.summary()"
   ]
  },
  {
   "cell_type": "code",
   "execution_count": null,
   "id": "a89058d3",
   "metadata": {},
   "outputs": [],
   "source": [
    "# store model\n",
    "if export_results and on_cluster:\n",
    "    model.save(export_folder + \"/model_\"+datetime.datetime.now().strftime(date_format)+\".h5\")"
   ]
  },
  {
   "cell_type": "markdown",
   "id": "8d5715f4",
   "metadata": {},
   "source": [
    "#### Timer\n",
    "Stop the timer"
   ]
  },
  {
   "cell_type": "code",
   "execution_count": null,
   "id": "39134459",
   "metadata": {},
   "outputs": [],
   "source": [
    "stop = time.time()\n",
    "print(f'It took {stop - start} s to load the data and train the model')\n",
    "\n",
    "if export_results:\n",
    "    f = open(f'{export_folder}/overall_time.txt', 'w')\n",
    "    f.write(f'Time it took : {stop - start} s')\n",
    "    f.close()"
   ]
  },
  {
   "cell_type": "markdown",
   "id": "530e3834",
   "metadata": {},
   "source": [
    "## 4. Test model"
   ]
  },
  {
   "cell_type": "markdown",
   "id": "7313ccf2",
   "metadata": {},
   "source": [
    "#### Evaluate loss and accuracy during training"
   ]
  },
  {
   "cell_type": "code",
   "execution_count": null,
   "id": "2ca6b285",
   "metadata": {},
   "outputs": [],
   "source": [
    "# evaluate the model\n",
    "_, train_acc, train_recall = model.evaluate(X_train, y_train)\n",
    "_, test_acc, test_recall  = model.evaluate(X_test, y_test)\n",
    "\n",
    "print('Accuracy\\tTrain: %.3f, Test: %.3f' % (train_acc, test_acc))\n",
    "print('Recall\\tTrain: %.3f, Test: %.3f' % (train_recall, test_recall))"
   ]
  },
  {
   "cell_type": "markdown",
   "id": "031e98a0",
   "metadata": {},
   "source": [
    "#### Predict test set (again)"
   ]
  },
  {
   "cell_type": "code",
   "execution_count": null,
   "id": "d70d97ed",
   "metadata": {},
   "outputs": [],
   "source": [
    "y_pred_continuous = model.predict(X_test)\n",
    "y_pred_discrete = (model.predict(X_test) > 0.5).astype(\"int32\")\n",
    "y_pred = y_pred_discrete"
   ]
  },
  {
   "cell_type": "markdown",
   "id": "78801a34",
   "metadata": {},
   "source": [
    "#### Display images and predictions"
   ]
  },
  {
   "cell_type": "code",
   "execution_count": null,
   "id": "8c0d857c",
   "metadata": {},
   "outputs": [],
   "source": [
    "from utilities import display_results\n",
    "\n",
    "plt_all = display_results(X_test, y_pred, y_test, 15, img_pixel, flat=False)\n",
    "\n",
    "if export_results:\n",
    "    plt_all.savefig(export_folder + \"/classification_results_\"+datetime.datetime.now().strftime(date_format)+\".png\")\n",
    "\n",
    "plt_all.show()"
   ]
  },
  {
   "cell_type": "markdown",
   "id": "c6bb88d4",
   "metadata": {},
   "source": [
    "#### Display wrongly classified images"
   ]
  },
  {
   "cell_type": "code",
   "execution_count": null,
   "id": "5607f4ee",
   "metadata": {},
   "outputs": [],
   "source": [
    "from utilities import display_interesting_results\n",
    "\n",
    "plt_wrong = display_interesting_results(X_test, y_pred, y_test, img_pixel=img_pixel, flat=False)\n",
    "\n",
    "if export_results:\n",
    "    plt_wrong.savefig(export_folder + \"/incorrect_classification_results_\"+datetime.datetime.now().strftime(date_format)+\".png\")\n",
    "    \n",
    "plt_wrong.show()"
   ]
  },
  {
   "cell_type": "code",
   "execution_count": null,
   "id": "7befe365",
   "metadata": {},
   "outputs": [],
   "source": []
  }
 ],
 "metadata": {
  "kernelspec": {
   "display_name": "Python 3 (ipykernel)",
   "language": "python",
   "name": "python3"
  },
  "language_info": {
   "codemirror_mode": {
    "name": "ipython",
    "version": 3
   },
   "file_extension": ".py",
   "mimetype": "text/x-python",
   "name": "python",
   "nbconvert_exporter": "python",
   "pygments_lexer": "ipython3",
   "version": "3.9.12"
  }
 },
 "nbformat": 4,
 "nbformat_minor": 5
}

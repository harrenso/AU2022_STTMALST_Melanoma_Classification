{
 "cells": [
  {
   "cell_type": "markdown",
   "metadata": {},
   "source": [
    "# Melanoma Classification - Data Investigation\n",
    "Data Source: https://challenge2020.isic-archive.com/\n"
   ]
  },
  {
   "cell_type": "markdown",
   "metadata": {},
   "source": [
    "## 1. Downloading the data\n",
    "This step will take a while. Please be patient and do not aboard the project prematurely. We are downloading 25 GB. Please make sure you have enough space for this large amount of data.\n",
    "\n",
    "If you have already previously downloaded the data, please move it into a folder called \"data\" in the directory of this project, so that the following steps can run without a problem.\n",
    "\n",
    "The structure after this step will be as followed:\n",
    "<pre>\n",
    "data_investigation.ipynb\n",
    "data\n",
    "|---ISIC_2020_Training_Duplicates.csv\n",
    "|---ISIC_2020_Training_GroundTruth_v2.csv\n",
    "|---ISIC_2020_Training_JPEG.zip\n",
    "</pre>\n",
    "In the next step the images will be unzipped. Continue with step 2.\n",
    "\n",
    "If you have already unzipped the data the structure should now look like this: \n",
    "<pre>\n",
    "data_investigation.ipynb\n",
    "data\n",
    "|---ISIC_2020_Training_Duplicates.csv\n",
    "|---ISIC_2020_Training_GroundTruth_v2.csv\n",
    "|---ISIC_2020_Training_JPEG\n",
    "    |---train\n",
    "        |---ISIC_0099474.jpg\n",
    "        |---...\n",
    "</pre>\n",
    "If you are at this data structure please continue with step 3."
   ]
  },
  {
   "cell_type": "code",
   "execution_count": 1,
   "metadata": {},
   "outputs": [
    {
     "name": "stdout",
     "output_type": "stream",
     "text": [
      "Created new directory for data\n",
      "Downloading ISIC img data\n",
      "Downloading ISIC meta data\n",
      "Dowloading ISIC duplicate image list\n"
     ]
    },
    {
     "data": {
      "text/plain": [
       "11500"
      ]
     },
     "execution_count": 1,
     "metadata": {},
     "output_type": "execute_result"
    }
   ],
   "source": [
    "import os\n",
    "import requests \n",
    "\n",
    "path = 'data'\n",
    "if not os.path.exists(path): \n",
    "  os.makedirs(path)\n",
    "  print(\"Created new directory for data\")\n",
    "\n",
    "print('Downloading ISIC img data')\n",
    "img_data = 'https://isic-challenge-data.s3.amazonaws.com/2020/ISIC_2020_Training_JPEG.zip'\n",
    "r = requests.get(img_data, allow_redirects=True, stream = True)\n",
    "with open(\"data/ISIC_2020_Training_JPEG.zip\",\"wb\") as file:\n",
    "    for chunk in r.iter_content(chunk_size=1024):\n",
    "         if chunk:\n",
    "             file.write(chunk)\n",
    "\n",
    "print('Downloading ISIC meta data')\n",
    "meta_data = 'https://isic-challenge-data.s3.amazonaws.com/2020/ISIC_2020_Training_GroundTruth_v2.csv'\n",
    "r = requests.get(meta_data, allow_redirects=True)\n",
    "open('data/ISIC_2020_Training_GroundTruth_v2.csv', 'wb').write(r.content)\n",
    "\n",
    "print('Downloading ISIC duplicate image list')\n",
    "duplicate_list_data = 'https://isic-challenge-data.s3.amazonaws.com/2020/ISIC_2020_Training_Duplicates.csv'\n",
    "r = requests.get(duplicate_list_data, allow_redirects=True)\n",
    "open('data/ISIC_2020_Training_Duplicates.csv', 'wb').write(r.content)"
   ]
  },
  {
   "cell_type": "markdown",
   "metadata": {},
   "source": [
    "## 2. Unzipping downloaded data\n",
    "The images are included in a .zip file. In order to work with the images, we have to unzip the data.\n",
    "\n",
    "This step will also take quite a while. Be patient :-)"
   ]
  },
  {
   "cell_type": "code",
   "execution_count": 2,
   "metadata": {},
   "outputs": [
    {
     "name": "stdout",
     "output_type": "stream",
     "text": [
      "Unzipping Image Data\n",
      "Finished unzipping images\n"
     ]
    }
   ],
   "source": [
    "from zipfile import ZipFile\n",
    "\n",
    "print(\"Unzipping Image Data\")\n",
    "with ZipFile(\"data/ISIC_2020_Training_JPEG.zip\", 'r') as zObject:\n",
    "    zObject.extractall(path=\"data/ISIC_2020_Training_JPEG\")\n",
    "print(\"Finished unzipping images\")"
   ]
  },
  {
   "cell_type": "markdown",
   "metadata": {},
   "source": [
    "## 3. Filtering duplicates\n",
    "The data includes some duplicates.These are stored in the file \"data/ISIC_2020_Training_Duplicates.csv\".\n",
    "We do not want to train on duplicate data and will therefore remove these images from our training data."
   ]
  },
  {
   "cell_type": "code",
   "execution_count": 3,
   "metadata": {},
   "outputs": [
    {
     "name": "stdout",
     "output_type": "stream",
     "text": [
      "There are 425 duplicate pictures in the data\n",
      "There are 33126 images in total in the meta-data file ('ground-truth')\n",
      "There are 33126 images on the hard-drive\n",
      "Dropping images in ground truth\n",
      "After dropping the duplicates, there are 32701 images in total in the meta-data file ('ground-truth')\n",
      "Deleting duplicate images from the hard-drive\n",
      "There are now 32701 images on the hard-drive\n"
     ]
    }
   ],
   "source": [
    "import pandas as pd\n",
    "import os\n",
    "\n",
    "df_duplicates = pd.read_csv(\"data/ISIC_2020_Training_Duplicates.csv\")\n",
    "df_groundtruth = pd.read_csv(\"data/ISIC_2020_Training_GroundTruth_v2.csv\")\n",
    "img_path = 'data/ISIC_2020_Training_JPEG/train'\n",
    "\n",
    "print(\"There are %i duplicate pictures in the data\" %len(df_duplicates.index))\n",
    "print(\"There are %i images in total in the meta-data file ('ground-truth')\" %len(df_groundtruth.index))\n",
    "print (\"There are %i images on the hard-drive\" %len([name for name in os.listdir(img_path) if os.path.isfile(os.path.join(img_path, name))]))\n",
    "\n",
    "img_to_drop = df_duplicates.image_name_1.values.tolist()\n",
    "\n",
    "print(\"Dropping duplicate images in ground truth\")\n",
    "df_groundtruth = df_groundtruth[df_groundtruth.image_name.isin(img_to_drop) == False]\n",
    "df_groundtruth.to_csv(\"data/ISIC_2020_Training_GroundTruth_v2.csv\")\n",
    "print(\"After dropping the duplicates, there are %i images in total in the meta-data file ('ground-truth')\" %len(df_groundtruth.index))\n",
    "\n",
    "print(\"Deleting duplicate images from the hard-drive\")\n",
    "for img_name in img_to_drop:\n",
    "    filename = img_path + \"/\" + img_name + \".jpg\"\n",
    "    try:\n",
    "        os.remove(filename)\n",
    "    except IOError:\n",
    "        pass\n",
    "\n",
    "print (\"There are now %i images on the hard-drive\" %len([name for name in os.listdir(img_path) if os.path.isfile(os.path.join(img_path, name))]))"
   ]
  },
  {
   "cell_type": "code",
   "execution_count": null,
   "metadata": {},
   "outputs": [],
   "source": []
  }
 ],
 "metadata": {
  "kernelspec": {
   "display_name": "Python 3 (ipykernel)",
   "language": "python",
   "name": "python3"
  },
  "language_info": {
   "codemirror_mode": {
    "name": "ipython",
    "version": 3
   },
   "file_extension": ".py",
   "mimetype": "text/x-python",
   "name": "python",
   "nbconvert_exporter": "python",
   "pygments_lexer": "ipython3",
   "version": "3.8.13"
  },
  "vscode": {
   "interpreter": {
    "hash": "1d01c6bf3e9d205d38e3a736a612358a4609254e46bf94dc685129c2f8b8b6c3"
   }
  }
 },
 "nbformat": 4,
 "nbformat_minor": 2
}

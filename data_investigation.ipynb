{
 "cells": [
  {
   "cell_type": "markdown",
   "metadata": {},
   "source": [
    "# Melanoma Classification - Data Investigation\n",
    "Data Source: https://challenge2020.isic-archive.com/\n"
   ]
  },
  {
   "cell_type": "markdown",
   "metadata": {},
   "source": [
    "## 1. Downloading the data\n",
    "If you have already previously downloaded the data, please move it into a folder called \"data\" in the directory of this project, so that the following steps can run without a problem"
   ]
  },
  {
   "cell_type": "code",
   "execution_count": 5,
   "metadata": {},
   "outputs": [
    {
     "name": "stdout",
     "output_type": "stream",
     "text": [
      "Created new directory for data\n",
      "Downloading ISIC img data\n",
      "Downloading ISIC meta data\n",
      "Dowloading ISIC duplicate image list\n"
     ]
    },
    {
     "data": {
      "text/plain": [
       "11500"
      ]
     },
     "execution_count": 5,
     "metadata": {},
     "output_type": "execute_result"
    }
   ],
   "source": [
    "import os\n",
    "import requests \n",
    "\n",
    "path = 'data'\n",
    "if not os.path.exists(path): \n",
    "  os.makedirs(path)\n",
    "  print(\"Created new directory for data\")\n",
    "\n",
    "print('Downloading ISIC img data')\n",
    "img_data = 'https://isic-challenge-data.s3.amazonaws.com/2020/ISIC_2020_Training_JPEG.zip'\n",
    "r = requests.get(img_data, allow_redirects=True, stream = True)\n",
    "with open(\"data/ISIC_2020_Training_JPEG.zip\",\"wb\") as file:\n",
    "    for chunk in r.iter_content(chunk_size=1024):\n",
    "         if chunk:\n",
    "             file.write(chunk)\n",
    "\n",
    "print('Downloading ISIC meta data')\n",
    "meta_data = 'https://isic-challenge-data.s3.amazonaws.com/2020/ISIC_2020_Training_GroundTruth_v2.csv'\n",
    "r = requests.get(meta_data, allow_redirects=True)\n",
    "open('data/ISIC_2020_Training_GroundTruth_v2.csv', 'wb').write(r.content)\n",
    "\n",
    "print('Downloading ISIC duplicate image list')\n",
    "duplicate_list_data = 'https://isic-challenge-data.s3.amazonaws.com/2020/ISIC_2020_Training_Duplicates.csv'\n",
    "r = requests.get(duplicate_list_data, allow_redirects=True)\n",
    "open('data/ISIC_2020_Training_Duplicates.csv', 'wb').write(r.content)"
   ]
  },
  {
   "cell_type": "markdown",
   "metadata": {},
   "source": [
    "## 2. Unzipping downloaded data"
   ]
  },
  {
   "cell_type": "code",
   "execution_count": null,
   "metadata": {},
   "outputs": [],
   "source": [
    "from zipfile import ZipFile\n",
    "\n",
    "print(\"Unzipping Image Data\")\n",
    "with ZipFile(\"data/ISIC_2020_Training_JPEG.zip\", 'r') as zObject:\n",
    "    zObject.extractall(path=\"data/ISIC_2020_Training_JPEG\")"
   ]
  }
 ],
 "metadata": {
  "kernelspec": {
   "display_name": "Python 3 (ipykernel)",
   "language": "python",
   "name": "python3"
  },
  "language_info": {
   "codemirror_mode": {
    "name": "ipython",
    "version": 3
   },
   "file_extension": ".py",
   "mimetype": "text/x-python",
   "name": "python",
   "nbconvert_exporter": "python",
   "pygments_lexer": "ipython3",
   "version": "3.8.13"
  },
  "vscode": {
   "interpreter": {
    "hash": "1d01c6bf3e9d205d38e3a736a612358a4609254e46bf94dc685129c2f8b8b6c3"
   }
  }
 },
 "nbformat": 4,
 "nbformat_minor": 2
}

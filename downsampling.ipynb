{
 "cells": [
  {
   "cell_type": "markdown",
   "id": "9917c641",
   "metadata": {},
   "source": [
    "# Melanoma Classification - Downsampling\n",
    "\n",
    "The ISIC 2020 dataset is very skewed. It includes far more samples labeled as no-melanoma, than samples labeled as melanoma (1.78%). Even when combining the dataset with the ISIC 2019 dataset, which has a higher percentage of positive samples (17.85%), only around 9% posite samples can be achieved. \n",
    "\n",
    "\n",
    "The skewed data leads to bad models which are likely to overfit. For this reason, the data shall be downsampled in the following. That means that some samples classified as no-melanoma will be removed from the dataset in order to achieve a ore even contribution. \n",
    "\n",
    "\n",
    "Another option would be upsampling, where the samples labeled as positive are multiplied. Since we however already have a huge dataset which we are struggeling to fit on the cluster, this approach is not suitable."
   ]
  },
  {
   "cell_type": "markdown",
   "id": "be599fa3",
   "metadata": {},
   "source": [
    "## Setup"
   ]
  },
  {
   "cell_type": "markdown",
   "id": "7db980fd",
   "metadata": {},
   "source": [
    "where to get the data from"
   ]
  },
  {
   "cell_type": "code",
   "execution_count": 1,
   "id": "045aa8d5",
   "metadata": {},
   "outputs": [],
   "source": [
    "data_base_path = \"data\"\n",
    "ground_truth_base_file_name = \"ISIC_2020_2019\" \n",
    "\n",
    "partitions = [\"train\", \"test\"]"
   ]
  },
  {
   "cell_type": "markdown",
   "id": "aa82cde9",
   "metadata": {},
   "source": [
    "where to download the data to"
   ]
  },
  {
   "cell_type": "code",
   "execution_count": 2,
   "id": "4da5567d",
   "metadata": {},
   "outputs": [],
   "source": [
    "downsampled_suffix = \"_downsampled\""
   ]
  },
  {
   "cell_type": "markdown",
   "id": "d7674838",
   "metadata": {},
   "source": [
    "percentage of melanoma samples after downsampling"
   ]
  },
  {
   "cell_type": "code",
   "execution_count": 3,
   "id": "2692a9ef",
   "metadata": {},
   "outputs": [],
   "source": [
    "goal_percentage_positive_sample = 0.3"
   ]
  },
  {
   "cell_type": "markdown",
   "id": "15dc803b",
   "metadata": {},
   "source": [
    "set up for utilities"
   ]
  },
  {
   "cell_type": "code",
   "execution_count": 4,
   "id": "52975b51",
   "metadata": {},
   "outputs": [],
   "source": [
    "import os\n",
    "import sys\n",
    "module_path = os.path.abspath(os.path.join('..'))\n",
    "if module_path not in sys.path:\n",
    "    sys.path.append(module_path)"
   ]
  },
  {
   "cell_type": "markdown",
   "id": "dfe3233a",
   "metadata": {},
   "source": [
    "random state"
   ]
  },
  {
   "cell_type": "code",
   "execution_count": 5,
   "id": "14aef934",
   "metadata": {},
   "outputs": [],
   "source": [
    "from utilities import random_state\n",
    "random_state = random_state() "
   ]
  },
  {
   "cell_type": "markdown",
   "id": "cbf9787d",
   "metadata": {},
   "source": [
    "## Load Groundtruth Data"
   ]
  },
  {
   "cell_type": "code",
   "execution_count": 6,
   "id": "565a3ad2",
   "metadata": {},
   "outputs": [
    {
     "name": "stdout",
     "output_type": "stream",
     "text": [
      "Reading groundtruth data/ISIC_2020_2019_train.csv\n",
      "Reading groundtruth data/ISIC_2020_2019_test.csv\n",
      "Reading groundtruth data/ISIC_2020_2019_valid.csv\n"
     ]
    }
   ],
   "source": [
    "import pandas as pd\n",
    "\n",
    "datasets = []\n",
    "\n",
    "for p in partitions:\n",
    "    groundtruth_file_name = data_base_path + \"/\" + ground_truth_base_file_name + \"_\" + p + \".csv\"\n",
    "    print(\"Reading groundtruth \" + groundtruth_file_name)\n",
    "    datasets.append(pd.read_csv(groundtruth_file_name, index_col=0))"
   ]
  },
  {
   "cell_type": "markdown",
   "id": "0112cd2d",
   "metadata": {},
   "source": [
    "## Split into positive and negative samples"
   ]
  },
  {
   "cell_type": "code",
   "execution_count": 7,
   "id": "97cc7fc5",
   "metadata": {},
   "outputs": [
    {
     "data": {
      "image/png": "[encoded data removed]",
      "text/plain": [
       "<Figure size 432x288 with 1 Axes>"
      ]
     },
     "metadata": {},
     "output_type": "display_data"
    },
    {
     "data": {
      "image/png": "[encoded data removed]",
      "text/plain": [
       "<Figure size 432x288 with 1 Axes>"
      ]
     },
     "metadata": {},
     "output_type": "display_data"
    },
    {
     "data": {
      "image/png": "[encoded data removed]",
      "text/plain": [
       "<Figure size 432x288 with 1 Axes>"
      ]
     },
     "metadata": {},
     "output_type": "display_data"
    }
   ],
   "source": [
    "import matplotlib.pyplot as plt # for showing images\n",
    "\n",
    "for i in range(len(partitions)):\n",
    "    samples = datasets[i]\n",
    "    \n",
    "    samples.groupby('target').size().plot(kind='pie',\n",
    "                                        y = \"target\",\n",
    "                                        label=\"Melanoma\",\n",
    "                                        title = partitions[i],\n",
    "                                        autopct='%1.1f%%')\n",
    "    plt.show()\n",
    "    \n",
    "    positive = samples[samples[\"target\"] == 1]\n",
    "    negative  = samples[samples[\"target\"] == 0]\n",
    "    \n",
    "    datasets[i] = [negative, positive]"
   ]
  },
  {
   "cell_type": "markdown",
   "id": "36745ea0",
   "metadata": {},
   "source": [
    "## Downsampling"
   ]
  },
  {
   "cell_type": "code",
   "execution_count": 8,
   "id": "0b3d44c2",
   "metadata": {},
   "outputs": [
    {
     "name": "stdout",
     "output_type": "stream",
     "text": [
      "Downsampling train\n",
      "Before:\n",
      "negative samples: 42329 positive samples: 4096\n",
      "After:\n",
      "negative samples: 16384 positive samples: 4096\n",
      "Downsampling test\n",
      "Before:\n",
      "negative samples: 5323 positive samples: 481\n",
      "After:\n",
      "negative samples: 1924 positive samples: 481\n",
      "Downsampling valid\n",
      "Before:\n",
      "negative samples: 5277 positive samples: 526\n",
      "After:\n",
      "negative samples: 2104 positive samples: 526\n"
     ]
    }
   ],
   "source": [
    "import numpy as np\n",
    "\n",
    "for i in range(len(partitions)):\n",
    "    num_positive_samples = datasets[i][1].count()[0]\n",
    "    num_negative_samples = datasets[i][0].count()[0]\n",
    "    \n",
    "    img_names = datasets[i][0][\"image_name\"].values.tolist()\n",
    "    \n",
    "    print(f'Downsampling {partitions[i]}\\nBefore:\\nnegative samples: {num_negative_samples} positive samples: {num_positive_samples}')\n",
    "\n",
    "    goal_num_samples = int(num_positive_samples * (1/goal_percentage_positive_sample))\n",
    "    goal_num_negative_samples = goal_num_samples - num_positive_samples\n",
    "    \n",
    "    np.random.seed(random_state)\n",
    "    negative_downsample = np.random.choice(datasets[i][0][\"image_name\"], size=goal_num_negative_samples, replace=False)\n",
    "    negative_downsample = datasets[i][0][datasets[i][0]['image_name'].isin(negative_downsample)] \n",
    " \n",
    "    new_num_negative = negative_downsample.count()[0]\n",
    "    print(f'After:\\nnegative samples: {new_num_negative} positive samples: {num_positive_samples}')\n",
    "    \n",
    "    datasets[i] = pd.concat([datasets[i][1], negative_downsample])\n",
    "    \n",
    "    img_names = negative_downsample[\"image_name\"].values.tolist()"
   ]
  },
  {
   "cell_type": "markdown",
   "id": "b2f9200f",
   "metadata": {},
   "source": [
    "## Saving to disk (Groundtruth)"
   ]
  },
  {
   "cell_type": "code",
   "execution_count": 9,
   "id": "a9dfcf91",
   "metadata": {},
   "outputs": [
    {
     "name": "stdout",
     "output_type": "stream",
     "text": [
      "Downloading to  data/ISIC_2020_2019_train_downsampled.csv\n",
      "Downloading to  data/ISIC_2020_2019_test_downsampled.csv\n",
      "Downloading to  data/ISIC_2020_2019_valid_downsampled.csv\n"
     ]
    }
   ],
   "source": [
    "for i in range(len(partitions)):\n",
    "    name = data_base_path + \"/\" + ground_truth_base_file_name + \"_\" + partitions[i] + downsampled_suffix + \".csv\"\n",
    "    print(\"Downloading to \", name)\n",
    "    datasets[i].to_csv(name)"
   ]
  },
  {
   "cell_type": "markdown",
   "id": "e77003f3",
   "metadata": {},
   "source": [
    "## Saving to disk (Images)"
   ]
  },
  {
   "cell_type": "code",
   "execution_count": 10,
   "id": "5096140e",
   "metadata": {},
   "outputs": [
    {
     "name": "stdout",
     "output_type": "stream",
     "text": [
      "Created new directory data/train_downsampled\n",
      "Start moving 20480 images to data/train_downsampled\n",
      "Finished moving images to  data/train_downsampled\n",
      "Created new directory data/test_downsampled\n",
      "Start moving 2405 images to data/test_downsampled\n",
      "Finished moving images to  data/test_downsampled\n",
      "Created new directory data/valid_downsampled\n",
      "Start moving 2630 images to data/valid_downsampled\n",
      "Finished moving images to  data/valid_downsampled\n"
     ]
    }
   ],
   "source": [
    "import os\n",
    "import shutil\n",
    "\n",
    "for i in range(len(partitions)):\n",
    "    downsampled_folder = data_base_path + \"/\" + partitions[i] + downsampled_suffix\n",
    "    original_folder = data_base_path + \"/\" + partitions[i] \n",
    "    \n",
    "    if not os.path.exists(downsampled_folder): \n",
    "          os.makedirs(downsampled_folder)\n",
    "          print(\"Created new directory %s\" %downsampled_folder)\n",
    "        \n",
    "    img_names = datasets[i][\"image_name\"].values.tolist()\n",
    "    \n",
    "    print(f\"Start moving {len(img_names)} images to {downsampled_folder}\")\n",
    "        \n",
    "    for img_name in img_names:\n",
    "        fname = original_folder + \"/\" + img_name + \".jpg\"\n",
    "        shutil.copy(fname, downsampled_folder)\n",
    "    \n",
    "    print(\"Finished moving images to \", downsampled_folder)"
   ]
  }
 ],
 "metadata": {
  "kernelspec": {
   "display_name": "Python 3 (ipykernel)",
   "language": "python",
   "name": "python3"
  },
  "language_info": {
   "codemirror_mode": {
    "name": "ipython",
    "version": 3
   },
   "file_extension": ".py",
   "mimetype": "text/x-python",
   "name": "python",
   "nbconvert_exporter": "python",
   "pygments_lexer": "ipython3",
   "version": "3.9.12"
  }
 },
 "nbformat": 4,
 "nbformat_minor": 5
}
